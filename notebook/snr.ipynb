{
 "cells": [
  {
   "cell_type": "markdown",
   "metadata": {},
   "source": [
    "SNR の調査\n"
   ]
  },
  {
   "cell_type": "code",
   "execution_count": 1,
   "metadata": {},
   "outputs": [],
   "source": [
    "import sys\n",
    "\n",
    "sys.path.append(\"../\")"
   ]
  },
  {
   "cell_type": "code",
   "execution_count": 2,
   "metadata": {},
   "outputs": [],
   "source": [
    "import os\n",
    "import numpy as np\n",
    "import pandas as pd\n",
    "import matplotlib.pyplot as plt\n",
    "import seaborn as sns\n",
    "import scienceplots\n",
    "from positioning.readwav import readwav\n",
    "from positioning.get_spectrum_amplitude import (\n",
    "    get_tukey_spectrum_amplitude,\n",
    "    get_sn_amplitude,\n",
    ")\n",
    "from positioning.sound_db import TukeyDB\n",
    "from positioning import tools"
   ]
  },
  {
   "cell_type": "code",
   "execution_count": 3,
   "metadata": {},
   "outputs": [],
   "source": [
    "plt.style.use([\"science\", \"notebook\"])"
   ]
  },
  {
   "cell_type": "code",
   "execution_count": 4,
   "metadata": {},
   "outputs": [],
   "source": [
    "signal = readwav(\"../data/reference_3d_phone/a0e0.wav\")[:, 1]"
   ]
  },
  {
   "cell_type": "code",
   "execution_count": 5,
   "metadata": {},
   "outputs": [],
   "source": [
    "signal_noise = np.array(\n",
    "    [get_sn_amplitude(signal[i * 96000 : (i + 2) * 96000]) for i in range(10)]\n",
    ")"
   ]
  },
  {
   "cell_type": "code",
   "execution_count": 6,
   "metadata": {},
   "outputs": [],
   "source": [
    "signal_noise_avg = np.mean(signal_noise, axis=0)\n",
    "snr = []\n",
    "for i in range(7):\n",
    "    snr.append(tools.get_snr(signal_noise_avg[i, 0], signal_noise_avg[i, 1]))"
   ]
  },
  {
   "cell_type": "code",
   "execution_count": 7,
   "metadata": {},
   "outputs": [
    {
     "data": {
      "text/plain": [
       "[61.47930346403078,\n",
       " 70.6194320304379,\n",
       " 73.53859368405664,\n",
       " 67.42866414840262,\n",
       " 60.32976090542402,\n",
       " 55.34262954956107,\n",
       " 51.49217553703383]"
      ]
     },
     "execution_count": 7,
     "metadata": {},
     "output_type": "execute_result"
    }
   ],
   "source": [
    "snr"
   ]
  },
  {
   "cell_type": "code",
   "execution_count": 8,
   "metadata": {},
   "outputs": [
    {
     "data": {
      "text/plain": [
       "array([[1.91649863e-01, 1.61501741e-04],\n",
       "       [5.35841860e-01, 1.57738306e-04],\n",
       "       [8.51930153e-01, 1.79218540e-04],\n",
       "       [5.09176181e-01, 2.16396514e-04],\n",
       "       [1.99721658e-01, 1.92096390e-04],\n",
       "       [1.21938400e-01, 2.08097673e-04],\n",
       "       [5.68049231e-02, 1.50876693e-04]])"
      ]
     },
     "execution_count": 8,
     "metadata": {},
     "output_type": "execute_result"
    }
   ],
   "source": [
    "signal_noise_avg"
   ]
  },
  {
   "cell_type": "code",
   "execution_count": null,
   "metadata": {},
   "outputs": [],
   "source": []
  }
 ],
 "metadata": {
  "kernelspec": {
   "display_name": ".venv",
   "language": "python",
   "name": "python3"
  },
  "language_info": {
   "codemirror_mode": {
    "name": "ipython",
    "version": 3
   },
   "file_extension": ".py",
   "mimetype": "text/x-python",
   "name": "python",
   "nbconvert_exporter": "python",
   "pygments_lexer": "ipython3",
   "version": "3.10.13"
  }
 },
 "nbformat": 4,
 "nbformat_minor": 2
}
