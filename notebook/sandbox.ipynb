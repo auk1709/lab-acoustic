{
 "cells": [
  {
   "cell_type": "code",
   "execution_count": 1,
   "metadata": {},
   "outputs": [],
   "source": [
    "import sys\n",
    "\n",
    "sys.path.append(\"../\")"
   ]
  },
  {
   "cell_type": "code",
   "execution_count": 2,
   "metadata": {},
   "outputs": [],
   "source": [
    "import os\n",
    "import numpy as np\n",
    "import pandas as pd\n",
    "import matplotlib.pyplot as plt\n",
    "import seaborn as sns\n",
    "import scienceplots\n",
    "from positioning.readwav import readwav\n",
    "from positioning.get_spectrum_amplitude import (\n",
    "    get_tukey_spectrum_amplitude,\n",
    "    get_sn_amplitude,\n",
    ")\n",
    "from positioning.sound_db import ReflectCeilingDB\n",
    "from positioning import tools"
   ]
  },
  {
   "cell_type": "code",
   "execution_count": 3,
   "metadata": {},
   "outputs": [],
   "source": [
    "plt.style.use([\"science\", \"notebook\"])"
   ]
  },
  {
   "cell_type": "code",
   "execution_count": 4,
   "metadata": {},
   "outputs": [
    {
     "data": {
      "text/plain": [
       "(10331520,)"
      ]
     },
     "execution_count": 4,
     "metadata": {},
     "output_type": "execute_result"
    }
   ],
   "source": [
    "signal = readwav(\"../data/pos-reflect-ceiling/p28.wav\")[:, 1]\n",
    "signal.shape"
   ]
  },
  {
   "cell_type": "code",
   "execution_count": 5,
   "metadata": {},
   "outputs": [],
   "source": [
    "import scipy.signal as sg\n",
    "from positioning.make_wave import reference_transmit_signal, reference_transmit_tukey"
   ]
  },
  {
   "cell_type": "code",
   "execution_count": 6,
   "metadata": {},
   "outputs": [],
   "source": [
    "sig = readwav(\"../data/reference_3d_phone/a0e0.wav\")[:, 1]"
   ]
  },
  {
   "cell_type": "code",
   "execution_count": 7,
   "metadata": {},
   "outputs": [],
   "source": [
    "res_signal = signal\n",
    "first_freq: int = 15000\n",
    "last_freq: int = 22000\n",
    "interval_length: float = 0.2\n",
    "sampling_rate = 48000  # マイクのサンプリングレート\n",
    "signal_length = 0.003  # チャープ一発の信号長\n",
    "interval_sample_length = int(interval_length * sampling_rate)  # チャープのバンド間の間隔のサンプル数\n",
    "len_chirp_sample = 144  # 受信したチャープのサンプル数\n",
    "chirp_width = 1000  # チャープ一発の周波数帯域の幅\n",
    "band_freqs = np.arange(first_freq, last_freq, chirp_width)  # 送信する周波数のバンド\n",
    "sampling_buffer = 48  # データ切り出しの前後のゆとりN_c (1ms)\n",
    "fft_freq_rate = sampling_rate / len_chirp_sample  # FFTの周波数分解能\n",
    "band_freq_index_range = int(chirp_width / fft_freq_rate + 1)  # 1つの帯域の周波数インデックスの範囲\n",
    "tukey = sg.windows.tukey(int(sampling_rate * 0.003))\n",
    "# マッチドフィルター\n",
    "sample_frame_length = int(interval_length * 20 * sampling_rate)  # 0.1秒分のサンプル数\n",
    "chirp = reference_transmit_tukey(\n",
    "    first_freq=first_freq, last_freq=last_freq, interval_length=interval_length\n",
    ")  # 参照信号の生成\n",
    "corr = sg.correlate(res_signal[:sample_frame_length], chirp, mode=\"valid\")  # 相互相関\n",
    "corr_lags = sg.correlation_lags(\n",
    "    len(res_signal[:sample_frame_length]), len(chirp), mode=\"valid\"\n",
    ")\n",
    "index_f = corr_lags[np.abs(corr).argmax()]  # 最大値のインデックス見つける"
   ]
  },
  {
   "cell_type": "code",
   "execution_count": 8,
   "metadata": {},
   "outputs": [],
   "source": [
    "%matplotlib qt6"
   ]
  },
  {
   "cell_type": "code",
   "execution_count": 9,
   "metadata": {},
   "outputs": [
    {
     "data": {
      "text/plain": [
       "<Axes: >"
      ]
     },
     "execution_count": 9,
     "metadata": {},
     "output_type": "execute_result"
    }
   ],
   "source": [
    "sns.lineplot(x=corr_lags, y=np.abs(corr))"
   ]
  },
  {
   "cell_type": "code",
   "execution_count": 10,
   "metadata": {},
   "outputs": [
    {
     "data": {
      "text/plain": [
       "array([-1.35015131e-04-9.66007382e-05j,  7.68194131e-05+1.53817071e-04j,\n",
       "        1.34151218e-05-1.70775298e-04j, ...,\n",
       "        4.19151650e-04-1.90469090e-04j, -3.49380302e-04-1.36062796e-04j,\n",
       "        9.88236780e-05+2.40134342e-04j])"
      ]
     },
     "execution_count": 10,
     "metadata": {},
     "output_type": "execute_result"
    }
   ],
   "source": [
    "corr"
   ]
  },
  {
   "cell_type": "code",
   "execution_count": 11,
   "metadata": {},
   "outputs": [],
   "source": [
    "# plt.plot(res_signal[:sample_frame_length])"
   ]
  },
  {
   "cell_type": "code",
   "execution_count": 12,
   "metadata": {},
   "outputs": [],
   "source": [
    "# plt.plot(chirp)"
   ]
  },
  {
   "cell_type": "code",
   "execution_count": 13,
   "metadata": {},
   "outputs": [
    {
     "name": "stdout",
     "output_type": "stream",
     "text": [
      "(array([    41,    106,    187, ..., 133198, 133262, 133350]),)\n"
     ]
    }
   ],
   "source": [
    "argrelmax = sg.argrelmax(np.abs(corr), order=40)\n",
    "print(argrelmax)"
   ]
  },
  {
   "cell_type": "code",
   "execution_count": 14,
   "metadata": {},
   "outputs": [
    {
     "name": "stdout",
     "output_type": "stream",
     "text": [
      "61257\n"
     ]
    }
   ],
   "source": [
    "print(index_f)"
   ]
  },
  {
   "cell_type": "code",
   "execution_count": 15,
   "metadata": {},
   "outputs": [
    {
     "name": "stdout",
     "output_type": "stream",
     "text": [
      "1.7507141400011597\n",
      "2.2056745000112774\n"
     ]
    }
   ],
   "source": [
    "test_pos = np.array([0.25, 1.25, 1])\n",
    "real_spk_pos = np.array([0, 0, 2.2])\n",
    "virtual_spk_pos = np.array([0, 0, 2.8])\n",
    "real_distance = np.linalg.norm(test_pos - real_spk_pos)\n",
    "virtual_distance = np.linalg.norm(test_pos - virtual_spk_pos)\n",
    "print(real_distance)\n",
    "print(virtual_distance)"
   ]
  },
  {
   "cell_type": "code",
   "execution_count": 16,
   "metadata": {},
   "outputs": [
    {
     "name": "stdout",
     "output_type": "stream",
     "text": [
      "64\n"
     ]
    }
   ],
   "source": [
    "distance_diff = np.abs(virtual_distance - real_distance)\n",
    "diff_sample = int(distance_diff / 340 * sampling_rate)\n",
    "print(diff_sample)"
   ]
  },
  {
   "cell_type": "code",
   "execution_count": 17,
   "metadata": {},
   "outputs": [],
   "source": [
    "import positioning.tools as tools"
   ]
  },
  {
   "cell_type": "code",
   "execution_count": 18,
   "metadata": {},
   "outputs": [
    {
     "name": "stdout",
     "output_type": "stream",
     "text": [
      "1.7507141400011597\n",
      "11.309932474020213\n",
      "43.269793486721156\n"
     ]
    }
   ],
   "source": [
    "r, theta, phi = tools.rect_to_polar_3d(*(test_pos - real_spk_pos))\n",
    "print(r)\n",
    "print(theta)\n",
    "print(phi)"
   ]
  },
  {
   "cell_type": "code",
   "execution_count": 19,
   "metadata": {},
   "outputs": [],
   "source": [
    "from positioning.create_db import create_3d_spectrum_db\n",
    "from positioning.estimate import estimate_direction_3d, estimate_height, calc_position"
   ]
  },
  {
   "cell_type": "code",
   "execution_count": 20,
   "metadata": {},
   "outputs": [],
   "source": [
    "db = create_3d_spectrum_db(\"../data/reference_3d_phone\")"
   ]
  },
  {
   "cell_type": "code",
   "execution_count": 21,
   "metadata": {},
   "outputs": [],
   "source": [
    "direction = estimate_direction_3d(db, res_signal)"
   ]
  },
  {
   "cell_type": "code",
   "execution_count": 22,
   "metadata": {},
   "outputs": [
    {
     "name": "stdout",
     "output_type": "stream",
     "text": [
      "[-28   0]\n"
     ]
    }
   ],
   "source": [
    "print(direction)"
   ]
  },
  {
   "cell_type": "code",
   "execution_count": 23,
   "metadata": {},
   "outputs": [
    {
     "data": {
      "text/html": [
       "<div>\n",
       "<style scoped>\n",
       "    .dataframe tbody tr th:only-of-type {\n",
       "        vertical-align: middle;\n",
       "    }\n",
       "\n",
       "    .dataframe tbody tr th {\n",
       "        vertical-align: top;\n",
       "    }\n",
       "\n",
       "    .dataframe thead th {\n",
       "        text-align: right;\n",
       "    }\n",
       "</style>\n",
       "<table border=\"1\" class=\"dataframe\">\n",
       "  <thead>\n",
       "    <tr style=\"text-align: right;\">\n",
       "      <th></th>\n",
       "      <th>x</th>\n",
       "      <th>y</th>\n",
       "      <th>z</th>\n",
       "    </tr>\n",
       "  </thead>\n",
       "  <tbody>\n",
       "    <tr>\n",
       "      <th>p28</th>\n",
       "      <td>-0.25</td>\n",
       "      <td>1.25</td>\n",
       "      <td>1.00</td>\n",
       "    </tr>\n",
       "    <tr>\n",
       "      <th>p29</th>\n",
       "      <td>0.25</td>\n",
       "      <td>1.25</td>\n",
       "      <td>1.00</td>\n",
       "    </tr>\n",
       "    <tr>\n",
       "      <th>p30</th>\n",
       "      <td>-0.25</td>\n",
       "      <td>1.75</td>\n",
       "      <td>1.00</td>\n",
       "    </tr>\n",
       "    <tr>\n",
       "      <th>p31</th>\n",
       "      <td>0.25</td>\n",
       "      <td>1.75</td>\n",
       "      <td>1.00</td>\n",
       "    </tr>\n",
       "    <tr>\n",
       "      <th>p32</th>\n",
       "      <td>-0.25</td>\n",
       "      <td>1.25</td>\n",
       "      <td>1.25</td>\n",
       "    </tr>\n",
       "  </tbody>\n",
       "</table>\n",
       "</div>"
      ],
      "text/plain": [
       "        x     y     z\n",
       "p28 -0.25  1.25  1.00\n",
       "p29  0.25  1.25  1.00\n",
       "p30 -0.25  1.75  1.00\n",
       "p31  0.25  1.75  1.00\n",
       "p32 -0.25  1.25  1.25"
      ]
     },
     "execution_count": 23,
     "metadata": {},
     "output_type": "execute_result"
    }
   ],
   "source": [
    "true_pos = pd.read_csv(\"../data/pos-reflect-ceiling/measure-points.csv\", index_col=0)\n",
    "true_pos.head()"
   ]
  },
  {
   "cell_type": "code",
   "execution_count": 24,
   "metadata": {},
   "outputs": [],
   "source": [
    "r, theta, phi = tools.rect_to_polar_3d(\n",
    "    true_pos[\"x\"], true_pos[\"y\"], true_pos[\"z\"] - 2.2\n",
    ")"
   ]
  },
  {
   "cell_type": "code",
   "execution_count": 25,
   "metadata": {},
   "outputs": [
    {
     "data": {
      "text/html": [
       "<div>\n",
       "<style scoped>\n",
       "    .dataframe tbody tr th:only-of-type {\n",
       "        vertical-align: middle;\n",
       "    }\n",
       "\n",
       "    .dataframe tbody tr th {\n",
       "        vertical-align: top;\n",
       "    }\n",
       "\n",
       "    .dataframe thead th {\n",
       "        text-align: right;\n",
       "    }\n",
       "</style>\n",
       "<table border=\"1\" class=\"dataframe\">\n",
       "  <thead>\n",
       "    <tr style=\"text-align: right;\">\n",
       "      <th></th>\n",
       "      <th>x</th>\n",
       "      <th>y</th>\n",
       "      <th>z</th>\n",
       "      <th>distance</th>\n",
       "      <th>azimuth</th>\n",
       "      <th>elevation</th>\n",
       "    </tr>\n",
       "  </thead>\n",
       "  <tbody>\n",
       "    <tr>\n",
       "      <th>p28</th>\n",
       "      <td>-0.25</td>\n",
       "      <td>1.25</td>\n",
       "      <td>1.00</td>\n",
       "      <td>1.750714</td>\n",
       "      <td>-11.309932</td>\n",
       "      <td>43.269793</td>\n",
       "    </tr>\n",
       "    <tr>\n",
       "      <th>p29</th>\n",
       "      <td>0.25</td>\n",
       "      <td>1.25</td>\n",
       "      <td>1.00</td>\n",
       "      <td>1.750714</td>\n",
       "      <td>11.309932</td>\n",
       "      <td>43.269793</td>\n",
       "    </tr>\n",
       "    <tr>\n",
       "      <th>p30</th>\n",
       "      <td>-0.25</td>\n",
       "      <td>1.75</td>\n",
       "      <td>1.00</td>\n",
       "      <td>2.136586</td>\n",
       "      <td>-8.130102</td>\n",
       "      <td>34.169544</td>\n",
       "    </tr>\n",
       "    <tr>\n",
       "      <th>p31</th>\n",
       "      <td>0.25</td>\n",
       "      <td>1.75</td>\n",
       "      <td>1.00</td>\n",
       "      <td>2.136586</td>\n",
       "      <td>8.130102</td>\n",
       "      <td>34.169544</td>\n",
       "    </tr>\n",
       "    <tr>\n",
       "      <th>p32</th>\n",
       "      <td>-0.25</td>\n",
       "      <td>1.25</td>\n",
       "      <td>1.25</td>\n",
       "      <td>1.589811</td>\n",
       "      <td>-11.309932</td>\n",
       "      <td>36.695001</td>\n",
       "    </tr>\n",
       "  </tbody>\n",
       "</table>\n",
       "</div>"
      ],
      "text/plain": [
       "        x     y     z  distance    azimuth  elevation\n",
       "p28 -0.25  1.25  1.00  1.750714 -11.309932  43.269793\n",
       "p29  0.25  1.25  1.00  1.750714  11.309932  43.269793\n",
       "p30 -0.25  1.75  1.00  2.136586  -8.130102  34.169544\n",
       "p31  0.25  1.75  1.00  2.136586   8.130102  34.169544\n",
       "p32 -0.25  1.25  1.25  1.589811 -11.309932  36.695001"
      ]
     },
     "execution_count": 25,
     "metadata": {},
     "output_type": "execute_result"
    }
   ],
   "source": [
    "true_pos[\"distance\"] = r\n",
    "true_pos[\"azimuth\"] = theta\n",
    "true_pos[\"elevation\"] = phi\n",
    "true_pos.head()"
   ]
  },
  {
   "cell_type": "code",
   "execution_count": 26,
   "metadata": {},
   "outputs": [
    {
     "data": {
      "text/html": [
       "<div>\n",
       "<style scoped>\n",
       "    .dataframe tbody tr th:only-of-type {\n",
       "        vertical-align: middle;\n",
       "    }\n",
       "\n",
       "    .dataframe tbody tr th {\n",
       "        vertical-align: top;\n",
       "    }\n",
       "\n",
       "    .dataframe thead th {\n",
       "        text-align: right;\n",
       "    }\n",
       "</style>\n",
       "<table border=\"1\" class=\"dataframe\">\n",
       "  <thead>\n",
       "    <tr style=\"text-align: right;\">\n",
       "      <th></th>\n",
       "      <th>x</th>\n",
       "      <th>y</th>\n",
       "      <th>z</th>\n",
       "      <th>distance</th>\n",
       "      <th>azimuth</th>\n",
       "      <th>elevation</th>\n",
       "    </tr>\n",
       "  </thead>\n",
       "  <tbody>\n",
       "    <tr>\n",
       "      <th>p28</th>\n",
       "      <td>-0.25</td>\n",
       "      <td>1.25</td>\n",
       "      <td>1.00</td>\n",
       "      <td>1.750714</td>\n",
       "      <td>-11.309932</td>\n",
       "      <td>43.269793</td>\n",
       "    </tr>\n",
       "    <tr>\n",
       "      <th>p29</th>\n",
       "      <td>0.25</td>\n",
       "      <td>1.25</td>\n",
       "      <td>1.00</td>\n",
       "      <td>1.750714</td>\n",
       "      <td>11.309932</td>\n",
       "      <td>43.269793</td>\n",
       "    </tr>\n",
       "    <tr>\n",
       "      <th>p30</th>\n",
       "      <td>-0.25</td>\n",
       "      <td>1.75</td>\n",
       "      <td>1.00</td>\n",
       "      <td>2.136586</td>\n",
       "      <td>-8.130102</td>\n",
       "      <td>34.169544</td>\n",
       "    </tr>\n",
       "    <tr>\n",
       "      <th>p31</th>\n",
       "      <td>0.25</td>\n",
       "      <td>1.75</td>\n",
       "      <td>1.00</td>\n",
       "      <td>2.136586</td>\n",
       "      <td>8.130102</td>\n",
       "      <td>34.169544</td>\n",
       "    </tr>\n",
       "    <tr>\n",
       "      <th>p32</th>\n",
       "      <td>-0.25</td>\n",
       "      <td>1.25</td>\n",
       "      <td>1.25</td>\n",
       "      <td>1.589811</td>\n",
       "      <td>-11.309932</td>\n",
       "      <td>36.695001</td>\n",
       "    </tr>\n",
       "    <tr>\n",
       "      <th>p33</th>\n",
       "      <td>0.25</td>\n",
       "      <td>1.25</td>\n",
       "      <td>1.25</td>\n",
       "      <td>1.589811</td>\n",
       "      <td>11.309932</td>\n",
       "      <td>36.695001</td>\n",
       "    </tr>\n",
       "    <tr>\n",
       "      <th>p34</th>\n",
       "      <td>-0.25</td>\n",
       "      <td>1.75</td>\n",
       "      <td>1.25</td>\n",
       "      <td>2.006863</td>\n",
       "      <td>-8.130102</td>\n",
       "      <td>28.253635</td>\n",
       "    </tr>\n",
       "    <tr>\n",
       "      <th>p35</th>\n",
       "      <td>0.25</td>\n",
       "      <td>1.75</td>\n",
       "      <td>1.25</td>\n",
       "      <td>2.006863</td>\n",
       "      <td>8.130102</td>\n",
       "      <td>28.253635</td>\n",
       "    </tr>\n",
       "    <tr>\n",
       "      <th>p36</th>\n",
       "      <td>-0.25</td>\n",
       "      <td>1.25</td>\n",
       "      <td>0.75</td>\n",
       "      <td>1.930673</td>\n",
       "      <td>-11.309932</td>\n",
       "      <td>48.679962</td>\n",
       "    </tr>\n",
       "    <tr>\n",
       "      <th>p37</th>\n",
       "      <td>0.25</td>\n",
       "      <td>1.25</td>\n",
       "      <td>0.75</td>\n",
       "      <td>1.930673</td>\n",
       "      <td>11.309932</td>\n",
       "      <td>48.679962</td>\n",
       "    </tr>\n",
       "    <tr>\n",
       "      <th>p38</th>\n",
       "      <td>-0.25</td>\n",
       "      <td>1.75</td>\n",
       "      <td>0.75</td>\n",
       "      <td>2.286373</td>\n",
       "      <td>-8.130102</td>\n",
       "      <td>39.360106</td>\n",
       "    </tr>\n",
       "    <tr>\n",
       "      <th>p39</th>\n",
       "      <td>0.25</td>\n",
       "      <td>1.75</td>\n",
       "      <td>0.75</td>\n",
       "      <td>2.286373</td>\n",
       "      <td>8.130102</td>\n",
       "      <td>39.360106</td>\n",
       "    </tr>\n",
       "  </tbody>\n",
       "</table>\n",
       "</div>"
      ],
      "text/plain": [
       "        x     y     z  distance    azimuth  elevation\n",
       "p28 -0.25  1.25  1.00  1.750714 -11.309932  43.269793\n",
       "p29  0.25  1.25  1.00  1.750714  11.309932  43.269793\n",
       "p30 -0.25  1.75  1.00  2.136586  -8.130102  34.169544\n",
       "p31  0.25  1.75  1.00  2.136586   8.130102  34.169544\n",
       "p32 -0.25  1.25  1.25  1.589811 -11.309932  36.695001\n",
       "p33  0.25  1.25  1.25  1.589811  11.309932  36.695001\n",
       "p34 -0.25  1.75  1.25  2.006863  -8.130102  28.253635\n",
       "p35  0.25  1.75  1.25  2.006863   8.130102  28.253635\n",
       "p36 -0.25  1.25  0.75  1.930673 -11.309932  48.679962\n",
       "p37  0.25  1.25  0.75  1.930673  11.309932  48.679962\n",
       "p38 -0.25  1.75  0.75  2.286373  -8.130102  39.360106\n",
       "p39  0.25  1.75  0.75  2.286373   8.130102  39.360106"
      ]
     },
     "execution_count": 26,
     "metadata": {},
     "output_type": "execute_result"
    }
   ],
   "source": [
    "true_pos"
   ]
  },
  {
   "cell_type": "code",
   "execution_count": 27,
   "metadata": {},
   "outputs": [],
   "source": [
    "cur_true_pos = true_pos.loc[[\"p34\", \"p35\"]]\n",
    "test_signal = [\n",
    "    readwav(f\"../data/pos-reflect-ceiling/{i}.wav\")[:, 1] for i in cur_true_pos.index\n",
    "]"
   ]
  },
  {
   "cell_type": "code",
   "execution_count": 29,
   "metadata": {},
   "outputs": [],
   "source": [
    "est_direction = np.array(\n",
    "    [\n",
    "        [estimate_direction_3d(db, s[i * 96000 : (i + 2) * 96000]) for i in range(90)]\n",
    "        for s in test_signal\n",
    "    ]\n",
    ")"
   ]
  },
  {
   "cell_type": "code",
   "execution_count": 30,
   "metadata": {},
   "outputs": [
    {
     "name": "stdout",
     "output_type": "stream",
     "text": [
      "[[[ 12   2]\n",
      "  [ 12   2]\n",
      "  [ 13   2]\n",
      "  [ 13   2]\n",
      "  [ 13   2]\n",
      "  [ 13   2]\n",
      "  [ 13   2]\n",
      "  [ 12   2]\n",
      "  [ 13   2]\n",
      "  [ 13   2]\n",
      "  [ 13   2]\n",
      "  [ 13   2]\n",
      "  [ 13   2]\n",
      "  [ 13   2]\n",
      "  [ 12   2]\n",
      "  [ 12   2]\n",
      "  [ 12   2]\n",
      "  [ 13   2]\n",
      "  [ 13   2]\n",
      "  [ 13   2]\n",
      "  [ 13   2]\n",
      "  [ 13   2]\n",
      "  [ 13   2]\n",
      "  [ 13   2]\n",
      "  [ 12   2]\n",
      "  [ 12   2]\n",
      "  [ 13   2]\n",
      "  [ 13   2]\n",
      "  [ 13   2]\n",
      "  [ 13   2]\n",
      "  [ 13   2]\n",
      "  [ 13   2]\n",
      "  [ 13   2]\n",
      "  [ 12   2]\n",
      "  [ 12   2]\n",
      "  [ 13   2]\n",
      "  [ 13   2]\n",
      "  [ 13   2]\n",
      "  [ 13   2]\n",
      "  [ 13   2]\n",
      "  [ 19  27]\n",
      "  [ 13   2]\n",
      "  [ 20  27]\n",
      "  [ 20  27]\n",
      "  [-34  21]\n",
      "  [ 19  27]\n",
      "  [ 19  27]\n",
      "  [ 20  27]\n",
      "  [ 20  27]\n",
      "  [ 13   2]\n",
      "  [ 23  27]\n",
      "  [ 13   2]\n",
      "  [ 20  27]\n",
      "  [ 20  27]\n",
      "  [-35  21]\n",
      "  [-35  21]\n",
      "  [ 19  27]\n",
      "  [ 19  27]\n",
      "  [ 13   2]\n",
      "  [ 13   2]\n",
      "  [ 19  27]\n",
      "  [ 19  27]\n",
      "  [ 13   2]\n",
      "  [ 19  27]\n",
      "  [ 23  27]\n",
      "  [ 13   2]\n",
      "  [ 23  27]\n",
      "  [ 23  27]\n",
      "  [ 13   2]\n",
      "  [ 13   2]\n",
      "  [ 13   2]\n",
      "  [ 13   2]\n",
      "  [ 12   2]\n",
      "  [ 13   2]\n",
      "  [ 13   2]\n",
      "  [ 13   2]\n",
      "  [ 13   2]\n",
      "  [ 13   3]\n",
      "  [ 13   2]\n",
      "  [ 22  28]\n",
      "  [ 13   2]\n",
      "  [ 13   2]\n",
      "  [ 13   2]\n",
      "  [ 13   2]\n",
      "  [ 13   2]\n",
      "  [ 13   2]\n",
      "  [ 13   2]\n",
      "  [ 13   2]\n",
      "  [ 13   3]\n",
      "  [ 13   3]]\n",
      "\n",
      " [[-40  26]\n",
      "  [-40  26]\n",
      "  [-40  26]\n",
      "  [-40  26]\n",
      "  [-40  26]\n",
      "  [-40  26]\n",
      "  [-40  26]\n",
      "  [-40  26]\n",
      "  [-40  26]\n",
      "  [-40  26]\n",
      "  [-40  26]\n",
      "  [-40  26]\n",
      "  [-40  26]\n",
      "  [-40  26]\n",
      "  [-40  26]\n",
      "  [-40  26]\n",
      "  [-40  26]\n",
      "  [-40  26]\n",
      "  [-40  26]\n",
      "  [-40  26]\n",
      "  [-40  26]\n",
      "  [-40  26]\n",
      "  [-40  26]\n",
      "  [-40  26]\n",
      "  [-40  26]\n",
      "  [-40  26]\n",
      "  [-40  26]\n",
      "  [-40  26]\n",
      "  [-40  26]\n",
      "  [-40  26]\n",
      "  [-40  26]\n",
      "  [-40  26]\n",
      "  [-40  26]\n",
      "  [-40  26]\n",
      "  [-40  26]\n",
      "  [-40  26]\n",
      "  [-40  26]\n",
      "  [-40  26]\n",
      "  [-40  26]\n",
      "  [-40  26]\n",
      "  [-40  26]\n",
      "  [-40  26]\n",
      "  [-40  26]\n",
      "  [-40  26]\n",
      "  [-40  26]\n",
      "  [-40  26]\n",
      "  [-40  26]\n",
      "  [-40  26]\n",
      "  [-40  26]\n",
      "  [-40  26]\n",
      "  [-40  26]\n",
      "  [-40  26]\n",
      "  [-40  26]\n",
      "  [-40  26]\n",
      "  [-40  26]\n",
      "  [-40  26]\n",
      "  [-40  26]\n",
      "  [-40  25]\n",
      "  [-40  26]\n",
      "  [-40  25]\n",
      "  [-40  26]\n",
      "  [-40  26]\n",
      "  [-40  26]\n",
      "  [-40  26]\n",
      "  [-40  26]\n",
      "  [-40  26]\n",
      "  [-40  26]\n",
      "  [-40  26]\n",
      "  [-40  26]\n",
      "  [-40  26]\n",
      "  [-40  26]\n",
      "  [-40  26]\n",
      "  [-40  26]\n",
      "  [-40  26]\n",
      "  [-40  26]\n",
      "  [-40  26]\n",
      "  [-40  26]\n",
      "  [-40  26]\n",
      "  [-40  26]\n",
      "  [-40  26]\n",
      "  [-40  26]\n",
      "  [-40  26]\n",
      "  [-40  26]\n",
      "  [-40  26]\n",
      "  [-40  26]\n",
      "  [-40  26]\n",
      "  [ 38   0]\n",
      "  [ 38   0]\n",
      "  [ 38   0]\n",
      "  [ 38   0]]]\n"
     ]
    }
   ],
   "source": [
    "print(est_direction)"
   ]
  },
  {
   "cell_type": "code",
   "execution_count": 32,
   "metadata": {},
   "outputs": [
    {
     "name": "stdout",
     "output_type": "stream",
     "text": [
      "[[20.13010235 20.13010235 21.13010235 21.13010235 21.13010235 21.13010235\n",
      "  21.13010235 20.13010235 21.13010235 21.13010235 21.13010235 21.13010235\n",
      "  21.13010235 21.13010235 20.13010235 20.13010235 20.13010235 21.13010235\n",
      "  21.13010235 21.13010235 21.13010235 21.13010235 21.13010235 21.13010235\n",
      "  20.13010235 20.13010235 21.13010235 21.13010235 21.13010235 21.13010235\n",
      "  21.13010235 21.13010235 21.13010235 20.13010235 20.13010235 21.13010235\n",
      "  21.13010235 21.13010235 21.13010235 21.13010235 27.13010235 21.13010235\n",
      "  28.13010235 28.13010235 25.86989765 27.13010235 27.13010235 28.13010235\n",
      "  28.13010235 21.13010235 31.13010235 21.13010235 28.13010235 28.13010235\n",
      "  26.86989765 26.86989765 27.13010235 27.13010235 21.13010235 21.13010235\n",
      "  27.13010235 27.13010235 21.13010235 27.13010235 31.13010235 21.13010235\n",
      "  31.13010235 31.13010235 21.13010235 21.13010235 21.13010235 21.13010235\n",
      "  20.13010235 21.13010235 21.13010235 21.13010235 21.13010235 21.13010235\n",
      "  21.13010235 30.13010235 21.13010235 21.13010235 21.13010235 21.13010235\n",
      "  21.13010235 21.13010235 21.13010235 21.13010235 21.13010235 21.13010235]\n",
      " [48.13010235 48.13010235 48.13010235 48.13010235 48.13010235 48.13010235\n",
      "  48.13010235 48.13010235 48.13010235 48.13010235 48.13010235 48.13010235\n",
      "  48.13010235 48.13010235 48.13010235 48.13010235 48.13010235 48.13010235\n",
      "  48.13010235 48.13010235 48.13010235 48.13010235 48.13010235 48.13010235\n",
      "  48.13010235 48.13010235 48.13010235 48.13010235 48.13010235 48.13010235\n",
      "  48.13010235 48.13010235 48.13010235 48.13010235 48.13010235 48.13010235\n",
      "  48.13010235 48.13010235 48.13010235 48.13010235 48.13010235 48.13010235\n",
      "  48.13010235 48.13010235 48.13010235 48.13010235 48.13010235 48.13010235\n",
      "  48.13010235 48.13010235 48.13010235 48.13010235 48.13010235 48.13010235\n",
      "  48.13010235 48.13010235 48.13010235 48.13010235 48.13010235 48.13010235\n",
      "  48.13010235 48.13010235 48.13010235 48.13010235 48.13010235 48.13010235\n",
      "  48.13010235 48.13010235 48.13010235 48.13010235 48.13010235 48.13010235\n",
      "  48.13010235 48.13010235 48.13010235 48.13010235 48.13010235 48.13010235\n",
      "  48.13010235 48.13010235 48.13010235 48.13010235 48.13010235 48.13010235\n",
      "  48.13010235 48.13010235 29.86989765 29.86989765 29.86989765 29.86989765]]\n"
     ]
    }
   ],
   "source": [
    "azimuth_error = np.array(\n",
    "    [\n",
    "        np.abs(est_direction[i, :, 0] - az)\n",
    "        for i, az in enumerate(cur_true_pos[\"azimuth\"])\n",
    "    ]\n",
    ")\n",
    "print(azimuth_error)"
   ]
  },
  {
   "cell_type": "code",
   "execution_count": 34,
   "metadata": {},
   "outputs": [
    {
     "name": "stdout",
     "output_type": "stream",
     "text": [
      "[[26.25363542 26.25363542 26.25363542 26.25363542 26.25363542 26.25363542\n",
      "  26.25363542 26.25363542 26.25363542 26.25363542 26.25363542 26.25363542\n",
      "  26.25363542 26.25363542 26.25363542 26.25363542 26.25363542 26.25363542\n",
      "  26.25363542 26.25363542 26.25363542 26.25363542 26.25363542 26.25363542\n",
      "  26.25363542 26.25363542 26.25363542 26.25363542 26.25363542 26.25363542\n",
      "  26.25363542 26.25363542 26.25363542 26.25363542 26.25363542 26.25363542\n",
      "  26.25363542 26.25363542 26.25363542 26.25363542  1.25363542 26.25363542\n",
      "   1.25363542  1.25363542  7.25363542  1.25363542  1.25363542  1.25363542\n",
      "   1.25363542 26.25363542  1.25363542 26.25363542  1.25363542  1.25363542\n",
      "   7.25363542  7.25363542  1.25363542  1.25363542 26.25363542 26.25363542\n",
      "   1.25363542  1.25363542 26.25363542  1.25363542  1.25363542 26.25363542\n",
      "   1.25363542  1.25363542 26.25363542 26.25363542 26.25363542 26.25363542\n",
      "  26.25363542 26.25363542 26.25363542 26.25363542 26.25363542 25.25363542\n",
      "  26.25363542  0.25363542 26.25363542 26.25363542 26.25363542 26.25363542\n",
      "  26.25363542 26.25363542 26.25363542 26.25363542 25.25363542 25.25363542]\n",
      " [ 2.25363542  2.25363542  2.25363542  2.25363542  2.25363542  2.25363542\n",
      "   2.25363542  2.25363542  2.25363542  2.25363542  2.25363542  2.25363542\n",
      "   2.25363542  2.25363542  2.25363542  2.25363542  2.25363542  2.25363542\n",
      "   2.25363542  2.25363542  2.25363542  2.25363542  2.25363542  2.25363542\n",
      "   2.25363542  2.25363542  2.25363542  2.25363542  2.25363542  2.25363542\n",
      "   2.25363542  2.25363542  2.25363542  2.25363542  2.25363542  2.25363542\n",
      "   2.25363542  2.25363542  2.25363542  2.25363542  2.25363542  2.25363542\n",
      "   2.25363542  2.25363542  2.25363542  2.25363542  2.25363542  2.25363542\n",
      "   2.25363542  2.25363542  2.25363542  2.25363542  2.25363542  2.25363542\n",
      "   2.25363542  2.25363542  2.25363542  3.25363542  2.25363542  3.25363542\n",
      "   2.25363542  2.25363542  2.25363542  2.25363542  2.25363542  2.25363542\n",
      "   2.25363542  2.25363542  2.25363542  2.25363542  2.25363542  2.25363542\n",
      "   2.25363542  2.25363542  2.25363542  2.25363542  2.25363542  2.25363542\n",
      "   2.25363542  2.25363542  2.25363542  2.25363542  2.25363542  2.25363542\n",
      "   2.25363542  2.25363542 28.25363542 28.25363542 28.25363542 28.25363542]]\n"
     ]
    }
   ],
   "source": [
    "elevation_error = np.array(\n",
    "    [\n",
    "        np.abs(est_direction[i, :, 1] - el)\n",
    "        for i, el in enumerate(cur_true_pos[\"elevation\"])\n",
    "    ]\n",
    ")\n",
    "print(elevation_error)"
   ]
  },
  {
   "cell_type": "code",
   "execution_count": 35,
   "metadata": {},
   "outputs": [
    {
     "data": {
      "text/html": [
       "<div>\n",
       "<style scoped>\n",
       "    .dataframe tbody tr th:only-of-type {\n",
       "        vertical-align: middle;\n",
       "    }\n",
       "\n",
       "    .dataframe tbody tr th {\n",
       "        vertical-align: top;\n",
       "    }\n",
       "\n",
       "    .dataframe thead th {\n",
       "        text-align: right;\n",
       "    }\n",
       "</style>\n",
       "<table border=\"1\" class=\"dataframe\">\n",
       "  <thead>\n",
       "    <tr style=\"text-align: right;\">\n",
       "      <th></th>\n",
       "      <th>azimuth</th>\n",
       "      <th>elevation</th>\n",
       "      <th>test</th>\n",
       "      <th>azimuth_error</th>\n",
       "      <th>elevation_error</th>\n",
       "    </tr>\n",
       "  </thead>\n",
       "  <tbody>\n",
       "    <tr>\n",
       "      <th>0</th>\n",
       "      <td>12</td>\n",
       "      <td>2</td>\n",
       "      <td>0</td>\n",
       "      <td>20.130102</td>\n",
       "      <td>26.253635</td>\n",
       "    </tr>\n",
       "    <tr>\n",
       "      <th>1</th>\n",
       "      <td>12</td>\n",
       "      <td>2</td>\n",
       "      <td>0</td>\n",
       "      <td>20.130102</td>\n",
       "      <td>26.253635</td>\n",
       "    </tr>\n",
       "    <tr>\n",
       "      <th>2</th>\n",
       "      <td>13</td>\n",
       "      <td>2</td>\n",
       "      <td>0</td>\n",
       "      <td>21.130102</td>\n",
       "      <td>26.253635</td>\n",
       "    </tr>\n",
       "    <tr>\n",
       "      <th>3</th>\n",
       "      <td>13</td>\n",
       "      <td>2</td>\n",
       "      <td>0</td>\n",
       "      <td>21.130102</td>\n",
       "      <td>26.253635</td>\n",
       "    </tr>\n",
       "    <tr>\n",
       "      <th>4</th>\n",
       "      <td>13</td>\n",
       "      <td>2</td>\n",
       "      <td>0</td>\n",
       "      <td>21.130102</td>\n",
       "      <td>26.253635</td>\n",
       "    </tr>\n",
       "  </tbody>\n",
       "</table>\n",
       "</div>"
      ],
      "text/plain": [
       "   azimuth  elevation  test  azimuth_error  elevation_error\n",
       "0       12          2     0      20.130102        26.253635\n",
       "1       12          2     0      20.130102        26.253635\n",
       "2       13          2     0      21.130102        26.253635\n",
       "3       13          2     0      21.130102        26.253635\n",
       "4       13          2     0      21.130102        26.253635"
      ]
     },
     "execution_count": 35,
     "metadata": {},
     "output_type": "execute_result"
    }
   ],
   "source": [
    "df_est = pd.DataFrame()\n",
    "for i, d in enumerate(est_direction):\n",
    "    df_est = pd.concat(\n",
    "        [df_est, pd.DataFrame(d, columns=[\"azimuth\", \"elevation\"]).assign(test=i)]\n",
    "    ).reset_index(drop=True)\n",
    "df_est[\"azimuth_error\"] = azimuth_error.reshape(-1)\n",
    "df_est[\"elevation_error\"] = elevation_error.reshape(-1)\n",
    "df_est.head()"
   ]
  },
  {
   "cell_type": "code",
   "execution_count": 36,
   "metadata": {},
   "outputs": [
    {
     "data": {
      "text/plain": [
       "Text(9.444444444444445, 0.5, 'CDF')"
      ]
     },
     "execution_count": 36,
     "metadata": {},
     "output_type": "execute_result"
    }
   ],
   "source": [
    "sns.displot(df_est, x=\"azimuth_error\", kind=\"ecdf\")\n",
    "plt.xlabel(\"Azimuth error [deg]\")\n",
    "plt.ylabel(\"CDF\")"
   ]
  },
  {
   "cell_type": "code",
   "execution_count": 37,
   "metadata": {},
   "outputs": [
    {
     "data": {
      "text/plain": [
       "Text(9.444444444444445, 0.5, 'CDF')"
      ]
     },
     "execution_count": 37,
     "metadata": {},
     "output_type": "execute_result"
    }
   ],
   "source": [
    "sns.displot(df_est, x=\"elevation_error\", kind=\"ecdf\")\n",
    "plt.xlabel(\"Elevation error [deg]\")\n",
    "plt.ylabel(\"CDF\")"
   ]
  },
  {
   "cell_type": "code",
   "execution_count": 38,
   "metadata": {},
   "outputs": [
    {
     "data": {
      "text/plain": [
       "p28    2.205675\n",
       "p29    2.205675\n",
       "p30    2.522895\n",
       "p31    2.522895\n",
       "p32    2.006863\n",
       "p33    2.006863\n",
       "p34    2.351064\n",
       "p35    2.351064\n",
       "p36    2.414022\n",
       "p37    2.414022\n",
       "p38    2.706936\n",
       "p39    2.706936\n",
       "dtype: float64"
      ]
     },
     "execution_count": 38,
     "metadata": {},
     "output_type": "execute_result"
    }
   ],
   "source": [
    "v_distance, _, _ = tools.rect_to_polar_3d(\n",
    "    true_pos[\"x\"], true_pos[\"y\"], true_pos[\"z\"] - 2.8\n",
    ")\n",
    "v_distance"
   ]
  },
  {
   "cell_type": "code",
   "execution_count": 39,
   "metadata": {},
   "outputs": [],
   "source": [
    "true_pos[\"v_distance\"] = v_distance"
   ]
  },
  {
   "cell_type": "code",
   "execution_count": 40,
   "metadata": {},
   "outputs": [],
   "source": [
    "true_pos[\"distance_diff\"] = np.abs(true_pos[\"distance\"] - true_pos[\"v_distance\"])"
   ]
  },
  {
   "cell_type": "code",
   "execution_count": 44,
   "metadata": {},
   "outputs": [
    {
     "data": {
      "text/html": [
       "<div>\n",
       "<style scoped>\n",
       "    .dataframe tbody tr th:only-of-type {\n",
       "        vertical-align: middle;\n",
       "    }\n",
       "\n",
       "    .dataframe tbody tr th {\n",
       "        vertical-align: top;\n",
       "    }\n",
       "\n",
       "    .dataframe thead th {\n",
       "        text-align: right;\n",
       "    }\n",
       "</style>\n",
       "<table border=\"1\" class=\"dataframe\">\n",
       "  <thead>\n",
       "    <tr style=\"text-align: right;\">\n",
       "      <th></th>\n",
       "      <th>x</th>\n",
       "      <th>y</th>\n",
       "      <th>z</th>\n",
       "      <th>distance</th>\n",
       "      <th>azimuth</th>\n",
       "      <th>elevation</th>\n",
       "      <th>v_distance</th>\n",
       "      <th>distance_diff</th>\n",
       "    </tr>\n",
       "  </thead>\n",
       "  <tbody>\n",
       "    <tr>\n",
       "      <th>p28</th>\n",
       "      <td>-0.25</td>\n",
       "      <td>1.25</td>\n",
       "      <td>1.00</td>\n",
       "      <td>1.750714</td>\n",
       "      <td>-11.309932</td>\n",
       "      <td>43.269793</td>\n",
       "      <td>2.205675</td>\n",
       "      <td>0.454960</td>\n",
       "    </tr>\n",
       "    <tr>\n",
       "      <th>p29</th>\n",
       "      <td>0.25</td>\n",
       "      <td>1.25</td>\n",
       "      <td>1.00</td>\n",
       "      <td>1.750714</td>\n",
       "      <td>11.309932</td>\n",
       "      <td>43.269793</td>\n",
       "      <td>2.205675</td>\n",
       "      <td>0.454960</td>\n",
       "    </tr>\n",
       "    <tr>\n",
       "      <th>p30</th>\n",
       "      <td>-0.25</td>\n",
       "      <td>1.75</td>\n",
       "      <td>1.00</td>\n",
       "      <td>2.136586</td>\n",
       "      <td>-8.130102</td>\n",
       "      <td>34.169544</td>\n",
       "      <td>2.522895</td>\n",
       "      <td>0.386309</td>\n",
       "    </tr>\n",
       "    <tr>\n",
       "      <th>p31</th>\n",
       "      <td>0.25</td>\n",
       "      <td>1.75</td>\n",
       "      <td>1.00</td>\n",
       "      <td>2.136586</td>\n",
       "      <td>8.130102</td>\n",
       "      <td>34.169544</td>\n",
       "      <td>2.522895</td>\n",
       "      <td>0.386309</td>\n",
       "    </tr>\n",
       "    <tr>\n",
       "      <th>p32</th>\n",
       "      <td>-0.25</td>\n",
       "      <td>1.25</td>\n",
       "      <td>1.25</td>\n",
       "      <td>1.589811</td>\n",
       "      <td>-11.309932</td>\n",
       "      <td>36.695001</td>\n",
       "      <td>2.006863</td>\n",
       "      <td>0.417052</td>\n",
       "    </tr>\n",
       "  </tbody>\n",
       "</table>\n",
       "</div>"
      ],
      "text/plain": [
       "        x     y     z  distance    azimuth  elevation  v_distance  \\\n",
       "p28 -0.25  1.25  1.00  1.750714 -11.309932  43.269793    2.205675   \n",
       "p29  0.25  1.25  1.00  1.750714  11.309932  43.269793    2.205675   \n",
       "p30 -0.25  1.75  1.00  2.136586  -8.130102  34.169544    2.522895   \n",
       "p31  0.25  1.75  1.00  2.136586   8.130102  34.169544    2.522895   \n",
       "p32 -0.25  1.25  1.25  1.589811 -11.309932  36.695001    2.006863   \n",
       "\n",
       "     distance_diff  \n",
       "p28       0.454960  \n",
       "p29       0.454960  \n",
       "p30       0.386309  \n",
       "p31       0.386309  \n",
       "p32       0.417052  "
      ]
     },
     "execution_count": 44,
     "metadata": {},
     "output_type": "execute_result"
    }
   ],
   "source": [
    "true_pos.head()"
   ]
  },
  {
   "cell_type": "code",
   "execution_count": 47,
   "metadata": {},
   "outputs": [],
   "source": [
    "true_pos[\"sample_diff\"] = (true_pos[\"distance_diff\"] / 340 * sampling_rate).astype(int)"
   ]
  },
  {
   "cell_type": "code",
   "execution_count": 48,
   "metadata": {},
   "outputs": [
    {
     "data": {
      "text/html": [
       "<div>\n",
       "<style scoped>\n",
       "    .dataframe tbody tr th:only-of-type {\n",
       "        vertical-align: middle;\n",
       "    }\n",
       "\n",
       "    .dataframe tbody tr th {\n",
       "        vertical-align: top;\n",
       "    }\n",
       "\n",
       "    .dataframe thead th {\n",
       "        text-align: right;\n",
       "    }\n",
       "</style>\n",
       "<table border=\"1\" class=\"dataframe\">\n",
       "  <thead>\n",
       "    <tr style=\"text-align: right;\">\n",
       "      <th></th>\n",
       "      <th>x</th>\n",
       "      <th>y</th>\n",
       "      <th>z</th>\n",
       "      <th>distance</th>\n",
       "      <th>azimuth</th>\n",
       "      <th>elevation</th>\n",
       "      <th>v_distance</th>\n",
       "      <th>distance_diff</th>\n",
       "      <th>sample_diff</th>\n",
       "    </tr>\n",
       "  </thead>\n",
       "  <tbody>\n",
       "    <tr>\n",
       "      <th>p28</th>\n",
       "      <td>-0.25</td>\n",
       "      <td>1.25</td>\n",
       "      <td>1.00</td>\n",
       "      <td>1.750714</td>\n",
       "      <td>-11.309932</td>\n",
       "      <td>43.269793</td>\n",
       "      <td>2.205675</td>\n",
       "      <td>0.454960</td>\n",
       "      <td>64</td>\n",
       "    </tr>\n",
       "    <tr>\n",
       "      <th>p29</th>\n",
       "      <td>0.25</td>\n",
       "      <td>1.25</td>\n",
       "      <td>1.00</td>\n",
       "      <td>1.750714</td>\n",
       "      <td>11.309932</td>\n",
       "      <td>43.269793</td>\n",
       "      <td>2.205675</td>\n",
       "      <td>0.454960</td>\n",
       "      <td>64</td>\n",
       "    </tr>\n",
       "    <tr>\n",
       "      <th>p30</th>\n",
       "      <td>-0.25</td>\n",
       "      <td>1.75</td>\n",
       "      <td>1.00</td>\n",
       "      <td>2.136586</td>\n",
       "      <td>-8.130102</td>\n",
       "      <td>34.169544</td>\n",
       "      <td>2.522895</td>\n",
       "      <td>0.386309</td>\n",
       "      <td>54</td>\n",
       "    </tr>\n",
       "    <tr>\n",
       "      <th>p31</th>\n",
       "      <td>0.25</td>\n",
       "      <td>1.75</td>\n",
       "      <td>1.00</td>\n",
       "      <td>2.136586</td>\n",
       "      <td>8.130102</td>\n",
       "      <td>34.169544</td>\n",
       "      <td>2.522895</td>\n",
       "      <td>0.386309</td>\n",
       "      <td>54</td>\n",
       "    </tr>\n",
       "    <tr>\n",
       "      <th>p32</th>\n",
       "      <td>-0.25</td>\n",
       "      <td>1.25</td>\n",
       "      <td>1.25</td>\n",
       "      <td>1.589811</td>\n",
       "      <td>-11.309932</td>\n",
       "      <td>36.695001</td>\n",
       "      <td>2.006863</td>\n",
       "      <td>0.417052</td>\n",
       "      <td>58</td>\n",
       "    </tr>\n",
       "  </tbody>\n",
       "</table>\n",
       "</div>"
      ],
      "text/plain": [
       "        x     y     z  distance    azimuth  elevation  v_distance  \\\n",
       "p28 -0.25  1.25  1.00  1.750714 -11.309932  43.269793    2.205675   \n",
       "p29  0.25  1.25  1.00  1.750714  11.309932  43.269793    2.205675   \n",
       "p30 -0.25  1.75  1.00  2.136586  -8.130102  34.169544    2.522895   \n",
       "p31  0.25  1.75  1.00  2.136586   8.130102  34.169544    2.522895   \n",
       "p32 -0.25  1.25  1.25  1.589811 -11.309932  36.695001    2.006863   \n",
       "\n",
       "     distance_diff  sample_diff  \n",
       "p28       0.454960           64  \n",
       "p29       0.454960           64  \n",
       "p30       0.386309           54  \n",
       "p31       0.386309           54  \n",
       "p32       0.417052           58  "
      ]
     },
     "execution_count": 48,
     "metadata": {},
     "output_type": "execute_result"
    }
   ],
   "source": [
    "true_pos.head()"
   ]
  },
  {
   "cell_type": "code",
   "execution_count": 49,
   "metadata": {},
   "outputs": [
    {
     "data": {
      "text/html": [
       "<div>\n",
       "<style scoped>\n",
       "    .dataframe tbody tr th:only-of-type {\n",
       "        vertical-align: middle;\n",
       "    }\n",
       "\n",
       "    .dataframe tbody tr th {\n",
       "        vertical-align: top;\n",
       "    }\n",
       "\n",
       "    .dataframe thead th {\n",
       "        text-align: right;\n",
       "    }\n",
       "</style>\n",
       "<table border=\"1\" class=\"dataframe\">\n",
       "  <thead>\n",
       "    <tr style=\"text-align: right;\">\n",
       "      <th></th>\n",
       "      <th>x</th>\n",
       "      <th>y</th>\n",
       "      <th>z</th>\n",
       "      <th>distance</th>\n",
       "      <th>azimuth</th>\n",
       "      <th>elevation</th>\n",
       "      <th>v_distance</th>\n",
       "      <th>distance_diff</th>\n",
       "      <th>sample_diff</th>\n",
       "    </tr>\n",
       "  </thead>\n",
       "  <tbody>\n",
       "    <tr>\n",
       "      <th>p28</th>\n",
       "      <td>-0.25</td>\n",
       "      <td>1.25</td>\n",
       "      <td>1.00</td>\n",
       "      <td>1.750714</td>\n",
       "      <td>-11.309932</td>\n",
       "      <td>43.269793</td>\n",
       "      <td>2.205675</td>\n",
       "      <td>0.454960</td>\n",
       "      <td>64</td>\n",
       "    </tr>\n",
       "    <tr>\n",
       "      <th>p29</th>\n",
       "      <td>0.25</td>\n",
       "      <td>1.25</td>\n",
       "      <td>1.00</td>\n",
       "      <td>1.750714</td>\n",
       "      <td>11.309932</td>\n",
       "      <td>43.269793</td>\n",
       "      <td>2.205675</td>\n",
       "      <td>0.454960</td>\n",
       "      <td>64</td>\n",
       "    </tr>\n",
       "    <tr>\n",
       "      <th>p30</th>\n",
       "      <td>-0.25</td>\n",
       "      <td>1.75</td>\n",
       "      <td>1.00</td>\n",
       "      <td>2.136586</td>\n",
       "      <td>-8.130102</td>\n",
       "      <td>34.169544</td>\n",
       "      <td>2.522895</td>\n",
       "      <td>0.386309</td>\n",
       "      <td>54</td>\n",
       "    </tr>\n",
       "    <tr>\n",
       "      <th>p31</th>\n",
       "      <td>0.25</td>\n",
       "      <td>1.75</td>\n",
       "      <td>1.00</td>\n",
       "      <td>2.136586</td>\n",
       "      <td>8.130102</td>\n",
       "      <td>34.169544</td>\n",
       "      <td>2.522895</td>\n",
       "      <td>0.386309</td>\n",
       "      <td>54</td>\n",
       "    </tr>\n",
       "    <tr>\n",
       "      <th>p32</th>\n",
       "      <td>-0.25</td>\n",
       "      <td>1.25</td>\n",
       "      <td>1.25</td>\n",
       "      <td>1.589811</td>\n",
       "      <td>-11.309932</td>\n",
       "      <td>36.695001</td>\n",
       "      <td>2.006863</td>\n",
       "      <td>0.417052</td>\n",
       "      <td>58</td>\n",
       "    </tr>\n",
       "    <tr>\n",
       "      <th>p33</th>\n",
       "      <td>0.25</td>\n",
       "      <td>1.25</td>\n",
       "      <td>1.25</td>\n",
       "      <td>1.589811</td>\n",
       "      <td>11.309932</td>\n",
       "      <td>36.695001</td>\n",
       "      <td>2.006863</td>\n",
       "      <td>0.417052</td>\n",
       "      <td>58</td>\n",
       "    </tr>\n",
       "    <tr>\n",
       "      <th>p34</th>\n",
       "      <td>-0.25</td>\n",
       "      <td>1.75</td>\n",
       "      <td>1.25</td>\n",
       "      <td>2.006863</td>\n",
       "      <td>-8.130102</td>\n",
       "      <td>28.253635</td>\n",
       "      <td>2.351064</td>\n",
       "      <td>0.344200</td>\n",
       "      <td>48</td>\n",
       "    </tr>\n",
       "    <tr>\n",
       "      <th>p35</th>\n",
       "      <td>0.25</td>\n",
       "      <td>1.75</td>\n",
       "      <td>1.25</td>\n",
       "      <td>2.006863</td>\n",
       "      <td>8.130102</td>\n",
       "      <td>28.253635</td>\n",
       "      <td>2.351064</td>\n",
       "      <td>0.344200</td>\n",
       "      <td>48</td>\n",
       "    </tr>\n",
       "    <tr>\n",
       "      <th>p36</th>\n",
       "      <td>-0.25</td>\n",
       "      <td>1.25</td>\n",
       "      <td>0.75</td>\n",
       "      <td>1.930673</td>\n",
       "      <td>-11.309932</td>\n",
       "      <td>48.679962</td>\n",
       "      <td>2.414022</td>\n",
       "      <td>0.483348</td>\n",
       "      <td>68</td>\n",
       "    </tr>\n",
       "    <tr>\n",
       "      <th>p37</th>\n",
       "      <td>0.25</td>\n",
       "      <td>1.25</td>\n",
       "      <td>0.75</td>\n",
       "      <td>1.930673</td>\n",
       "      <td>11.309932</td>\n",
       "      <td>48.679962</td>\n",
       "      <td>2.414022</td>\n",
       "      <td>0.483348</td>\n",
       "      <td>68</td>\n",
       "    </tr>\n",
       "    <tr>\n",
       "      <th>p38</th>\n",
       "      <td>-0.25</td>\n",
       "      <td>1.75</td>\n",
       "      <td>0.75</td>\n",
       "      <td>2.286373</td>\n",
       "      <td>-8.130102</td>\n",
       "      <td>39.360106</td>\n",
       "      <td>2.706936</td>\n",
       "      <td>0.420563</td>\n",
       "      <td>59</td>\n",
       "    </tr>\n",
       "    <tr>\n",
       "      <th>p39</th>\n",
       "      <td>0.25</td>\n",
       "      <td>1.75</td>\n",
       "      <td>0.75</td>\n",
       "      <td>2.286373</td>\n",
       "      <td>8.130102</td>\n",
       "      <td>39.360106</td>\n",
       "      <td>2.706936</td>\n",
       "      <td>0.420563</td>\n",
       "      <td>59</td>\n",
       "    </tr>\n",
       "  </tbody>\n",
       "</table>\n",
       "</div>"
      ],
      "text/plain": [
       "        x     y     z  distance    azimuth  elevation  v_distance  \\\n",
       "p28 -0.25  1.25  1.00  1.750714 -11.309932  43.269793    2.205675   \n",
       "p29  0.25  1.25  1.00  1.750714  11.309932  43.269793    2.205675   \n",
       "p30 -0.25  1.75  1.00  2.136586  -8.130102  34.169544    2.522895   \n",
       "p31  0.25  1.75  1.00  2.136586   8.130102  34.169544    2.522895   \n",
       "p32 -0.25  1.25  1.25  1.589811 -11.309932  36.695001    2.006863   \n",
       "p33  0.25  1.25  1.25  1.589811  11.309932  36.695001    2.006863   \n",
       "p34 -0.25  1.75  1.25  2.006863  -8.130102  28.253635    2.351064   \n",
       "p35  0.25  1.75  1.25  2.006863   8.130102  28.253635    2.351064   \n",
       "p36 -0.25  1.25  0.75  1.930673 -11.309932  48.679962    2.414022   \n",
       "p37  0.25  1.25  0.75  1.930673  11.309932  48.679962    2.414022   \n",
       "p38 -0.25  1.75  0.75  2.286373  -8.130102  39.360106    2.706936   \n",
       "p39  0.25  1.75  0.75  2.286373   8.130102  39.360106    2.706936   \n",
       "\n",
       "     distance_diff  sample_diff  \n",
       "p28       0.454960           64  \n",
       "p29       0.454960           64  \n",
       "p30       0.386309           54  \n",
       "p31       0.386309           54  \n",
       "p32       0.417052           58  \n",
       "p33       0.417052           58  \n",
       "p34       0.344200           48  \n",
       "p35       0.344200           48  \n",
       "p36       0.483348           68  \n",
       "p37       0.483348           68  \n",
       "p38       0.420563           59  \n",
       "p39       0.420563           59  "
      ]
     },
     "execution_count": 49,
     "metadata": {},
     "output_type": "execute_result"
    }
   ],
   "source": [
    "true_pos"
   ]
  },
  {
   "cell_type": "code",
   "execution_count": null,
   "metadata": {},
   "outputs": [],
   "source": []
  }
 ],
 "metadata": {
  "kernelspec": {
   "display_name": ".venv",
   "language": "python",
   "name": "python3"
  },
  "language_info": {
   "codemirror_mode": {
    "name": "ipython",
    "version": 3
   },
   "file_extension": ".py",
   "mimetype": "text/x-python",
   "name": "python",
   "nbconvert_exporter": "python",
   "pygments_lexer": "ipython3",
   "version": "3.10.13"
  }
 },
 "nbformat": 4,
 "nbformat_minor": 2
}
