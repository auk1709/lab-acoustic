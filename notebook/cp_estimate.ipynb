{
 "cells": [
  {
   "cell_type": "code",
   "execution_count": 1,
   "id": "f87848a4",
   "metadata": {
    "scrolled": true
   },
   "outputs": [],
   "source": [
    "#20221026 最新版\n",
    "#3kHz~13の0.3s間隔のプログラム\n",
    "\n",
    "#・speaker_heightsを変更して角度を基準にした。\n",
    "import time\n",
    "import wave\n",
    "import scipy as sp\n",
    "import numpy as np\n",
    "import matplotlib as mpl\n",
    "from matplotlib import pyplot as plt\n",
    "from scipy.fftpack import fft\n",
    "import scipy.signal as sg\n",
    "from scipy import signal\n",
    "import pandas as pd\n",
    "import scipy.interpolate as itpl\n",
    "# import resampy\n",
    "import math\n",
    "import seaborn as sns\n",
    "# import japanize_matplotlib\n",
    "from matplotlib.colors import LogNorm\n",
    "from matplotlib.colors import LinearSegmentedColormap\n",
    "# from numba import jit\n",
    "#6kHz~16kHzにチャープ信号を変更\n",
    "#データベースは10回分の平均で作成\n",
    "\n",
    "#信号読み込み\n",
    "#データベース生成\n",
    "#測位\n",
    "#変更点\n",
    "#・データベースの数\n",
    "#・周波数帯(14kHz-24kHz)\n",
    "#・np.zeros(144*10*81*76).reshape(81,76,144*10)\n",
    "#・speaker_heights[6] -> 0,17,34,50,64,75\n",
    "\n",
    "#相互相関を見直す\n",
    "#使用する帯域祖14~22kHzに変更\n",
    "\n",
    "def chirp_exp(numSamples, chirpLen_s, start_Hz, stop_Hz, phase_rad):\n",
    "    # チャープの生成関数,chirpaは生成したチャープ信号の配列を返す\n",
    "    times_s = np.linspace(0, chirpLen_s, numSamples) # Chirp times.\n",
    "    k = (stop_Hz - start_Hz) / chirpLen_s # Chirp rate.\n",
    "    sweepFreqs_Hz = (start_Hz + k/2. * times_s) * times_s\n",
    "    chirpa = np.array(np.exp(phase_rad*1j-2*np.pi*1j*sweepFreqs_Hz))\n",
    "    return chirpa\n",
    "\n",
    "def readwav(file1):\n",
    "    wr = wave.open(file1, 'r')\n",
    "    # waveファイルが持つ性質を取得\n",
    "    ch = wr.getnchannels()\n",
    "    width = wr.getsampwidth()\n",
    "    fr = wr.getframerate()\n",
    "    fn = wr.getnframes()\n",
    "    data = wr.readframes(wr.getnframes())\n",
    "    wr.close()\n",
    "    X = np.frombuffer(data, dtype=np.int16)\n",
    "    # 波全体の時間幅\n",
    "    t = np.arange(0,len(X))/int(fr)\n",
    "    # 1秒間の時間幅\n",
    "    t_1sec = np.arange(0,int(fr))/int(fr)\n",
    "    # 時間刻み幅\n",
    "    dt = 1/int(fr)\n",
    "    # 開始時間の指標\n",
    "    start = int(2.0/dt)\n",
    "    # 終了時間の指標\n",
    "    end = int(5.0/dt)\n",
    "    # plt.plot(t_1sec,X_1sec)\n",
    "    return X\n"
   ]
  },
  {
   "cell_type": "code",
   "execution_count": 2,
   "id": "d0ec732e",
   "metadata": {},
   "outputs": [],
   "source": [
    "def create_db():\n",
    "    #1回分をかさねあわせてる\n",
    "    sound_db1 = np.zeros(6*10*81*51).reshape(81,51,6*10)\n",
    "    sound_db2 = np.zeros(144*10*81*51).reshape(81,51,144*10)\n",
    "    sound_db3 = np.zeros(144*10*81*51).reshape(81,51,144*10)\n",
    "    sound_db4 = np.zeros(144*10*81*51).reshape(81,51,144*10)\n",
    "    sound_db5 = np.zeros(144*10*81*51).reshape(81,51,144*10)\n",
    "    sound_db6 = np.zeros(144*10*81*51).reshape(81,51,144*10)\n",
    "    sound_db7 = np.zeros(144*10*81*51).reshape(81,51,144*10)\n",
    "    sound_db8 = np.zeros(144*10*81*51).reshape(81,51,144*10)\n",
    "    sound_db9 = np.zeros(144*10*81*51).reshape(81,51,144*10)\n",
    "    sound_db10 = np.zeros(144*10*81*51).reshape(81,51,144*10)\n",
    "    sound_db = np.zeros(144*10*81*51).reshape(81,51,144*10)\n",
    "    sound_db1[:,:,:] = np.nan\n",
    "    sound_db2[:,:,:] = np.nan\n",
    "    sound_db3[:,:,:] = np.nan\n",
    "    sound_db4[:,:,:] = np.nan\n",
    "    sound_db5[:,:,:] = np.nan\n",
    "    sound_db6[:,:,:] = np.nan\n",
    "    sound_db7[:,:,:] = np.nan\n",
    "    sound_db8[:,:,:] = np.nan\n",
    "    sound_db9[:,:,:] = np.nan\n",
    "    sound_db10[:,:,:] = np.nan\n",
    "    sound_db[:,:,:] = np.nan\n",
    "    \n",
    "    dbs = [sound_db1,sound_db2,sound_db3,sound_db4,sound_db5,sound_db6,sound_db7,sound_db8,sound_db9,sound_db10]\n",
    "    times = 150000\n",
    "    for e in range(0,1):\n",
    "        #times += 50000\n",
    "        speaker_height = 0\n",
    "        for h in range(0,6):\n",
    "            mic_deg = -40\n",
    "            for i in range(0,9):\n",
    "                # wav読み込み\n",
    "                sound_sample = readwav('vivesound_0817/s'+str(speaker_height)+'m'+str(mic_deg)+'.wav')\n",
    "                start_hz = 3000\n",
    "                #最初の帯域(3~4kHz)のみfor文の外でまわしてindex_fを固定\n",
    "                #チャープ信号の生成\n",
    "                chirp = chirp_exp(144,0.003,start_hz,start_hz+1000,np.pi*0.5)\n",
    "                # 相互相関\n",
    "                corr = sg.correlate(sound_sample[times:times+50000*4],chirp,mode='same',method='auto')\n",
    "                #最大値のインデックス見つける\n",
    "                index_f = corr.argmax()\n",
    "                #1つ分の波の抽出\n",
    "                X_1sec = sound_sample[times+index_f-72:times+index_f+72]\n",
    "                X_1sec = (X_1sec) - (sum(X_1sec)/len(X_1sec))\n",
    "                # FFT\n",
    "                #X_fft = np.abs(fft(X_1sec))\n",
    "                # データベース構築\n",
    "                sound_db1[mic_deg+40,speaker_heights[h],0:6] = abs(fft(X_1sec)[8:14])\n",
    "                start_hz += 1000\n",
    "                start_sample = 12\n",
    "                for j in range(1,10):\n",
    "                    #チャープ信号の生成\n",
    "                    chirp = chirp_exp(144,0.003,start_hz,start_hz+1000,np.pi*0.5)\n",
    "                    # 相互相関\n",
    "                    corr = sg.correlate(sound_sample[times+index_f:times+index_f+50000*4],chirp,mode='same',method='auto')\n",
    "                    #最大値のインデックス見つける\n",
    "                    index = corr.argmax()\n",
    "                    #1つ分の波の抽出\n",
    "                    X_1sec = sound_sample[times+index_f+index-72:times+index_f+index+72]\n",
    "                    X_1sec = (X_1sec) - (sum(X_1sec)/len(X_1sec))\n",
    "                    test_x = np.linspace(0,50000,len(X_1sec))\n",
    "                    #plt.plot(test_x,abs(fft(X_1sec)))\n",
    "                    #plt.xlim(0,25000)\n",
    "                    #plt.show()\n",
    "                    # FFT\n",
    "                    #X_fft = np.abs(fft(X_1sec))\n",
    "                    # データベース構築\n",
    "                    sound_db1[mic_deg+40,speaker_heights[h],0+j*6:6+j*6] = abs(fft(X_1sec)[start_sample-1:start_sample+5])\n",
    "                    start_hz += 1000\n",
    "                    start_sample += 3\n",
    "                mic_deg += 10\n",
    "            speaker_height += 10\n",
    "\n",
    "    #sound_db =　np.concatenate([sound_db1,sound_db2,sound_db3,sound_db4,sound_db5,sound_db6,sound_db7,sound_db8,sound_db9,sound_db10], 0)    \n",
    "    \n",
    "    #検証コード\n",
    "    colorlist = [\"r\", \"g\", \"b\", \"y\", \"c\", \"gray\",\"orangered\",\"magenta\",\"purple\",\"sienna\"]\n",
    "    dbtest_x = np.linspace(0,60,60)\n",
    "    plt.plot(dbtest_x,sound_db1[10,30,:],color=colorlist[0],label=\"sound_db1\",alpha=0.3)\n",
    "    '''\n",
    "    plt.plot(dbtest_x,sound_db2[10,30,:],color=colorlist[1],label=\"sound_db2\",alpha=0.3)\n",
    "    plt.plot(dbtest_x,sound_db3[10,30,:],color=colorlist[2],label=\"sound_db3\",alpha=0.3)\n",
    "    plt.plot(dbtest_x,sound_db4[10,30,:],color=colorlist[3],label=\"sound_db4\",alpha=0.3)\n",
    "    plt.plot(dbtest_x,sound_db5[10,30,:],color=colorlist[4],label=\"sound_db5\",alpha=0.3)\n",
    "    plt.plot(dbtest_x,sound_db6[10,30,:],color=colorlist[5],label=\"sound_db6\",alpha=0.3)\n",
    "    plt.plot(dbtest_x,sound_db7[10,30,:],color=colorlist[6],label=\"sound_db7\",alpha=0.3)\n",
    "    plt.plot(dbtest_x,sound_db8[10,30,:],color=colorlist[7],label=\"sound_db8\",alpha=0.3)\n",
    "    plt.plot(dbtest_x,sound_db9[10,30,:],color=colorlist[8],label=\"sound_db9\",alpha=0.3)\n",
    "    plt.plot(dbtest_x,sound_db10[10,30,:],color=colorlist[9],label=\"sound_db10\",alpha=0.3)\n",
    "    '''\n",
    "    plt.show()\n",
    "    \n",
    "    sound_db = sound_db1\n",
    "    #sound_db = (sound_db1 + sound_db2 + sound_db3 + sound_db4 + sound_db5 + sound_db6 + sound_db7 + sound_db8 + sound_db9 + sound_db10)/10\n",
    "    #sound_db = abs(fft(sound_db))\n",
    "    #ここから秋間補間，マイク方位で補間した後スピーカ高さで補間\n",
    "    Akima = np.zeros(6*10*81*51).reshape(81,51,6*10)\n",
    "    Akima[:,:,:] = np.nan\n",
    "    #マイク方位で補間\n",
    "    count = 0\n",
    "    for j in range(0,6):\n",
    "        sound_db_d = pd.DataFrame(sound_db[:,speaker_heights[j],:])\n",
    "        sound_db_d.astype('float64')\n",
    "        Akima[:,speaker_heights[j],:] = sound_db_d.interpolate('akima')\n",
    "        #count += 25\n",
    "\n",
    "    #スピーカ高さで補間\n",
    "    for i in range(0,81):\n",
    "        sound_db_d = pd.DataFrame(Akima[i,:,:])\n",
    "        sound_db_d.astype('float64')\n",
    "        Akima[i,:,:] = sound_db_d.interpolate('akima')\n",
    "    #Akima = pd_Zrf_d.interpolate('akima')\n",
    "    print('Akima done!!')\n",
    "    return Akima\n",
    "    \n",
    "# 残差平方和\n",
    "def rss(y, t):\n",
    "    f = np.sum((y-t).T*(y-t))\n",
    "    return f\n",
    "\n",
    "def normalzie(x, amin=0, amax=1):\n",
    "    xmax = x.max()\n",
    "    xmin = x.min()\n",
    "    if xmin == xmax:\n",
    "        return np.ones_like(x)\n",
    "    return (amax - amin) * (x - xmin) / (xmax - xmin) + amin\n",
    "\n",
    "#normalized_x = normalzie(x, amin=-1, amax=1)\n",
    "  "
   ]
  },
  {
   "cell_type": "code",
   "execution_count": 3,
   "id": "675a343f",
   "metadata": {},
   "outputs": [],
   "source": [
    "def estimate(db,file):\n",
    "    \n",
    "    #データベースを読み込んで、残差平方和を計測\n",
    "    rss_db = np.zeros(81*51).reshape(81,51)\n",
    "    file_db = np.zeros(6*10)\n",
    "    #計測データを切り抜き\n",
    "    start_hz = 3000\n",
    "    #最初の帯域(10kHz)のみfor文の外でまわしてindexを固定\n",
    "    #チャープ信号の生成\n",
    "    chirp = chirp_exp(144,0.003,start_hz,start_hz+1000,np.pi*0.5)\n",
    "    # 相互相関\n",
    "    corr = sg.correlate(file[sec:sec+50000*4],chirp,mode='same',method='auto')\n",
    "    #最大値のインデックス見つける\n",
    "    index_f = corr.argmax()\n",
    "    #1つ分の波の抽出\n",
    "    X_1sec = file[sec+index_f-72:sec+index_f+72]\n",
    "    X_1sec = (X_1sec) - (sum(X_1sec)/len(X_1sec))\n",
    "    # FFT\n",
    "    X_fft = abs(fft(X_1sec)[8:14])\n",
    "    file_db[0:6] = X_fft\n",
    "    start_hz += 1000\n",
    "    start_sample = 12\n",
    "    for j in range(1,10):\n",
    "        #チャープ信号の生成\n",
    "        chirp = chirp_exp(144,0.003,start_hz,start_hz+1000,np.pi*0.5)\n",
    "        # 相互相関\n",
    "        corr = sg.correlate(file[sec+index_f:sec+index_f+50000*4], chirp, mode='same', method='auto')\n",
    "        #最大値のインデックス見つける\n",
    "        index = corr.argmax()\n",
    "        #1つ分の波の抽出\n",
    "        X_1sec = file[sec+index_f+index-72:sec+index_f+index+72]\n",
    "        X_1sec = (X_1sec) - (sum(X_1sec)/len(X_1sec))\n",
    "        # FFT\n",
    "        X_fft = abs(fft(X_1sec)[start_sample-1:start_sample+5])\n",
    "        file_db[j*6:6+j*6] = X_fft\n",
    "        start_hz += 1000\n",
    "        start_sample += 3\n",
    "    #print(file_db)\n",
    "    #print(db)\n",
    "    #窓関数をかける\n",
    "    #N = len(file_db) #入力データの数=横軸のmax\n",
    "    #window_n = np.hanning(N)\n",
    "    \n",
    "    #fft_db = abs(fft(db*window_n))\n",
    "    #fft_file_db = abs(fft(file_db*window_n))\n",
    "    fft_db = db\n",
    "    fft_file_db = file_db\n",
    "    \n",
    "    \n",
    "    '''\n",
    "    for j in range(0,81):\n",
    "        for i in range(0,76):\n",
    "            rss_ans = rss(normalzie(fft_db[j,i],0,1),normalzie(fft_file_db[:],0,1))\n",
    "            rss_db[j,i] = rss_ans\n",
    "    #print('rss_db'+str(rss_db[26,71]))\n",
    "    #残差平方和の値のヒートマップだすためのプログラム\n",
    "    '''\n",
    "    \"\"\"\n",
    "    \"\"\"\n",
    "    \n",
    "    #base = fft_db[0,0]\n",
    "    base = fft_file_db\n",
    "    for j in range(0,81):\n",
    "        for i in range(0,51):\n",
    "            rss_ans = rss(normalzie(fft_db[j,i],0,1),normalzie(base,0,1))\n",
    "            #rss_ans = rss(fft_db[j,i],base[:])\n",
    "            rss_db[j,i] = rss_ans\n",
    "    pd.set_option('display.max_rows',100)\n",
    "    pd.set_option('display.max_columns',100)\n",
    "    #print('rss_db[0]:'+str(rss_db[0]))\n",
    "    \n",
    "    ####\n",
    "    estimate_mic_speaker = np.unravel_index(np.argmin(rss_db), rss_db.shape)\n",
    "    estimate_mic_speaker = list(estimate_mic_speaker)\n",
    "    ####\n",
    "    max_rss = rss_db.max()\n",
    "    rss_db = (rss_db/max_rss)*100\n",
    "    \n",
    "    dff = pd.DataFrame(rss_db)\n",
    "    '''\n",
    "    # data\n",
    "    bounds = [0.1, 0.25, 0.5, 1, 2.5, 5, 7.5, 10, 15, 20, 25, 50, 100]\n",
    "    style_color = [[0, 0, 127],\n",
    "                   [0, 0, 197],\n",
    "                   [0, 21, 254],\n",
    "                   [0, 126, 254],\n",
    "                   [0, 231, 254],\n",
    "                   [68, 253, 186],\n",
    "                   [153, 254, 101],\n",
    "                   [238, 254, 16],\n",
    "                   [254, 187, 0],\n",
    "                   [254, 101, 0],\n",
    "                   [254, 16, 0],\n",
    "                   [197, 0, 0],\n",
    "                   [127, 0, 0],\n",
    "                   [127, 0, 0]]\n",
    "    # transform color rgb value to 0-1 range\n",
    "    color_arr = []\n",
    "    for color in style_color:\n",
    "        rgb = [float(value)/255 for value in color]\n",
    "        color_arr.append(rgb)\n",
    "    # normalize bound values\n",
    "    norm = mpl.colors.Normalize(vmin=min(bounds), vmax=max(bounds))\n",
    "    normed_vals = norm(bounds)\n",
    "    # create a colormap\n",
    "    cmap = LinearSegmentedColormap.from_list(\n",
    "        'my_palette',\n",
    "        list(zip(normed_vals, color_arr[:-1])),\n",
    "        N=256\n",
    "        )\n",
    "    cmap.set_over([color for color in color_arr[-1]])\n",
    "    cmap.set_under([color for color in color_arr[0]])\n",
    "    \n",
    "    \n",
    "    \n",
    "    sns.heatmap(dff,cmap=cmap,norm=norm,ticks=bounds)\n",
    "    '''\n",
    "    #sns.heatmap(dff)\n",
    "    plt.ylabel(\"方位角\")\n",
    "    plt.xlabel(\"仰腑角\")\n",
    "    plt.yticks([0,10,20,30,40,50,60,70,80], [\"-40\", \"-30\", \"-20\",\"-10\", \"0\", \"10\", \"20\", \"30\", \"40\"])\n",
    "    plt.xticks([0,10,20,30,40,50], [\"0\", \"10\",\"20\", \"30\", \"40\", \"50\"])\n",
    " \n",
    "    \n",
    "    #ここかえる！\n",
    "    #真値（仰腑角,方位+40、）\n",
    "    plt.plot(gyouhu,houi+40,\"o\",color=[0,0.5,0,1],markersize=7,label = 'True')\n",
    "    \n",
    "    #残差平方和が低いところ\n",
    "    plt.plot(estimate_mic_speaker[1],estimate_mic_speaker[0],\"o\",color=[0,0,0.5,1],markersize=9,label = 'Estimate')\n",
    "    plt.show()\n",
    "    \n",
    "    #base = abs(fft(fft_file_db))\n",
    "    base = fft_file_db\n",
    "    for j in range(0,81):\n",
    "        for i in range(0,51):\n",
    "            rss_ans = rss(normalzie(fft_db[j,i],0,1),normalzie(base,0,1))\n",
    "            #rss_ans = rss(fft_db[j,i],base[:])\n",
    "            rss_db[j,i] = rss_ans\n",
    "    \n",
    "    #x = np.linspace(0, 50000, 1440)\n",
    "    #plt.plot(x,fft_db[80,0])\n",
    "    #plt.plot(x,fft_db[0,75])\n",
    "    #plt.plot(x,fft_db[80,75])\n",
    "    \n",
    "    #plt.show()\n",
    "    ####ヒートマップここまで\n",
    "    \n",
    "  \n",
    "    \n",
    "    ''''''\n",
    "    estimate_mic_speaker = np.unravel_index(np.argmin(rss_db), rss_db.shape)\n",
    "    estimate_mic_speaker = list(estimate_mic_speaker)\n",
    "    #全帯域のチャープ組み合わせた信号を生成\n",
    "    chirp_72 = abs(fft(chirp_exp(72,0.003,3000,4000,np.pi*0.5)))\n",
    "    chirp_all = abs(fft(chirp_exp(144,0.003,3000,4000,np.pi*0.5)))\n",
    "    create_hz = 4000\n",
    "    for i in range(1,10):\n",
    "        chirp_all += abs(fft(chirp_exp(144,0.003,create_hz,create_hz+1000,np.pi*0.5)))\n",
    "        create_hz += 1000\n",
    "    #方位,estimate_mic_speaker[0]-40\n",
    "    print('方位角'+str(estimate_mic_speaker[0]-40))\n",
    "    print('仰腑角'+str(estimate_mic_speaker[1]))\n",
    "    th = math.radians(estimate_mic_speaker[0]-40)\n",
    "    thy = math.radians(estimate_mic_speaker[1])\n",
    "                  \n",
    "    #マイク高さ,estimate_mic_speaker[1]\n",
    "    #距離\n",
    "    distance = abs(100.0*max(np.abs(sg.correlate(db[estimate_mic_speaker[0],estimate_mic_speaker[1],0:72],chirp_72, mode='same', method='auto'))))/max(np.abs(sg.correlate(file_db[0:72],chirp_72, mode='same', method='auto')))\n",
    "    #距離→角度が正確に推定できたと仮定した場合の距離\n",
    "    #distance = abs(100.0*max(np.abs(sg.correlate(db[houi+40,gyouhu,:],chirp_all, mode='same', method='auto'))))/max(np.abs(sg.correlate(file_db,chirp_all, mode='same', method='auto')))\n",
    "    print('distance:'+str(distance))\n",
    "    #print('(推定マイクx座標,推定マイク高さy,z)'+str(int(math.cos(th)*distance))+'cm,'+str(int(estimate_mic_speaker[1]+100))+'cm,'+str(int(abs(math.sin(th)*distance)))+'cm') \n",
    "    x_ans = distance*math.cos(thy)*math.sin(th)\n",
    "    y_ans = distance*math.sin(thy)+100\n",
    "    z_ans = abs(distance*math.cos(thy)*math.cos(th))\n",
    "    #角度が正確に推定できたと仮定した場合\n",
    "    #x_ans = distance*math.cos(math.radians(gyouhu))*math.sin(math.radians(houi))\n",
    "    #y_ans = distance*math.sin(math.radians(gyouhu))+100\n",
    "    #z_ans = abs(distance*math.cos(math.radians(gyouhu))*math.cos(math.radians(houi)))\n",
    "    print('(x,y,z:)'+str(x_ans)+'cm,'+str(y_ans)+'cm,'+str(z_ans)+'cm')\n",
    "    error = math.sqrt((dx-x_ans)*(dx-x_ans)+(dy-y_ans)*(dy-y_ans)+(dz-z_ans)*(dz-z_ans))\n",
    "    print('誤差:'+str(error)+'cm')\n",
    "    #出力順は3d.pycopy2の順番に合わせている\n",
    "    #return x_ans/100.0,z_ans/100.0,y_ans/100.0\n",
    "    #return error\n",
    "    #th,thy\n",
    "    #return estimate_mic_speaker[0]-40,estimate_mic_speaker[1]\n",
    "    return distance\n",
    "    \n",
    "    "
   ]
  },
  {
   "cell_type": "code",
   "execution_count": 4,
   "id": "7ba35bc0",
   "metadata": {},
   "outputs": [
    {
     "data": {
      "image/png": "[encoded data removed]",
      "text/plain": [
       "<Figure size 432x288 with 1 Axes>"
      ]
     },
     "metadata": {
      "needs_background": "light"
     },
     "output_type": "display_data"
    },
    {
     "name": "stdout",
     "output_type": "stream",
     "text": [
      "Akima done!!\n"
     ]
    },
    {
     "name": "stderr",
     "output_type": "stream",
     "text": [
      "/Users/ange0/miniforge3/lib/python3.9/site-packages/IPython/core/pylabtools.py:151: UserWarning: Glyph 20208 (\\N{CJK UNIFIED IDEOGRAPH-4EF0}) missing from current font.\n",
      "  fig.canvas.print_figure(bytes_io, **kw)\n",
      "/Users/ange0/miniforge3/lib/python3.9/site-packages/IPython/core/pylabtools.py:151: UserWarning: Glyph 33105 (\\N{CJK UNIFIED IDEOGRAPH-8151}) missing from current font.\n",
      "  fig.canvas.print_figure(bytes_io, **kw)\n",
      "/Users/ange0/miniforge3/lib/python3.9/site-packages/IPython/core/pylabtools.py:151: UserWarning: Glyph 35282 (\\N{CJK UNIFIED IDEOGRAPH-89D2}) missing from current font.\n",
      "  fig.canvas.print_figure(bytes_io, **kw)\n",
      "/Users/ange0/miniforge3/lib/python3.9/site-packages/IPython/core/pylabtools.py:151: UserWarning: Glyph 26041 (\\N{CJK UNIFIED IDEOGRAPH-65B9}) missing from current font.\n",
      "  fig.canvas.print_figure(bytes_io, **kw)\n",
      "/Users/ange0/miniforge3/lib/python3.9/site-packages/IPython/core/pylabtools.py:151: UserWarning: Glyph 20301 (\\N{CJK UNIFIED IDEOGRAPH-4F4D}) missing from current font.\n",
      "  fig.canvas.print_figure(bytes_io, **kw)\n"
     ]
    },
    {
     "data": {
      "image/png": "[encoded data removed]",
      "text/plain": [
       "<Figure size 432x288 with 1 Axes>"
      ]
     },
     "metadata": {
      "needs_background": "light"
     },
     "output_type": "display_data"
    },
    {
     "name": "stdout",
     "output_type": "stream",
     "text": [
      "方位角2\n",
      "仰腑角8\n",
      "distance:73.91409386181935\n",
      "(x,y,z:)2.5544605289051487cm,110.28685364740274cm,73.1501787069384cm\n",
      "誤差:27.79396528051491cm\n"
     ]
    },
    {
     "data": {
      "image/png": "[encoded data removed]",
      "text/plain": [
       "<Figure size 432x288 with 1 Axes>"
      ]
     },
     "metadata": {
      "needs_background": "light"
     },
     "output_type": "display_data"
    },
    {
     "name": "stdout",
     "output_type": "stream",
     "text": [
      "方位角2\n",
      "仰腑角7\n",
      "distance:74.08096134179728\n",
      "(x,y,z:)2.5661171739825934cm,109.02819811754695cm,73.48398134780516cm\n",
      "誤差:27.807082331075932cm\n"
     ]
    },
    {
     "data": {
      "image/png": "[encoded data removed]",
      "text/plain": [
       "<Figure size 432x288 with 1 Axes>"
      ]
     },
     "metadata": {
      "needs_background": "light"
     },
     "output_type": "display_data"
    },
    {
     "name": "stdout",
     "output_type": "stream",
     "text": [
      "方位角2\n",
      "仰腑角7\n",
      "distance:74.06916002805899\n",
      "(x,y,z:)2.565708384014012cm,109.02675989919034cm,73.47227513472535cm\n",
      "誤差:27.818619731120197cm\n"
     ]
    },
    {
     "data": {
      "image/png": "[encoded data removed]",
      "text/plain": [
       "<Figure size 432x288 with 1 Axes>"
      ]
     },
     "metadata": {
      "needs_background": "light"
     },
     "output_type": "display_data"
    },
    {
     "name": "stdout",
     "output_type": "stream",
     "text": [
      "方位角2\n",
      "仰腑角7\n",
      "distance:73.92230218160405\n",
      "(x,y,z:)2.5606213220334935cm,109.00886242986898cm,73.32660073938533cm\n",
      "誤差:27.96221181050904cm\n"
     ]
    },
    {
     "data": {
      "image/png": "[encoded data removed]",
      "text/plain": [
       "<Figure size 432x288 with 1 Axes>"
      ]
     },
     "metadata": {
      "needs_background": "light"
     },
     "output_type": "display_data"
    },
    {
     "name": "stdout",
     "output_type": "stream",
     "text": [
      "方位角2\n",
      "仰腑角7\n",
      "distance:73.84820349981091\n",
      "(x,y,z:)2.558054591034397cm,108.99983207217167cm,73.25309918038609cm\n",
      "誤差:28.03467555757385cm\n"
     ]
    },
    {
     "data": {
      "image/png": "[encoded data removed]",
      "text/plain": [
       "<Figure size 432x288 with 1 Axes>"
      ]
     },
     "metadata": {
      "needs_background": "light"
     },
     "output_type": "display_data"
    },
    {
     "name": "stdout",
     "output_type": "stream",
     "text": [
      "方位角3\n",
      "仰腑角7\n",
      "distance:72.96545094560456\n",
      "(x,y,z:)3.790252513117352cm,108.89225159800132cm,72.32232628379755cm\n",
      "誤差:29.088747319261934cm\n"
     ]
    },
    {
     "data": {
      "image/png": "[encoded data removed]",
      "text/plain": [
       "<Figure size 432x288 with 1 Axes>"
      ]
     },
     "metadata": {
      "needs_background": "light"
     },
     "output_type": "display_data"
    },
    {
     "name": "stdout",
     "output_type": "stream",
     "text": [
      "方位角2\n",
      "仰腑角7\n",
      "distance:73.51933495292788\n",
      "(x,y,z:)2.5466627946692615cm,108.95975307829643cm,72.92688081432668cm\n",
      "誤差:28.35638983356995cm\n"
     ]
    },
    {
     "data": {
      "image/png": "[encoded data removed]",
      "text/plain": [
       "<Figure size 432x288 with 1 Axes>"
      ]
     },
     "metadata": {
      "needs_background": "light"
     },
     "output_type": "display_data"
    },
    {
     "name": "stdout",
     "output_type": "stream",
     "text": [
      "方位角2\n",
      "仰腑角7\n",
      "distance:73.63351691710007\n",
      "(x,y,z:)2.550617984962614cm,108.9736683592988cm,73.04014264534925cm\n",
      "誤差:28.244673131315437cm\n"
     ]
    },
    {
     "data": {
      "image/png": "[encoded data removed]",
      "text/plain": [
       "<Figure size 432x288 with 1 Axes>"
      ]
     },
     "metadata": {
      "needs_background": "light"
     },
     "output_type": "display_data"
    },
    {
     "name": "stdout",
     "output_type": "stream",
     "text": [
      "方位角2\n",
      "仰腑角7\n",
      "distance:73.80402863437557\n",
      "(x,y,z:)2.5565244019169935cm,108.99444851032605cm,73.20928029724936cm\n",
      "誤差:28.077879796429944cm\n"
     ]
    },
    {
     "data": {
      "image/png": "[encoded data removed]",
      "text/plain": [
       "<Figure size 432x288 with 1 Axes>"
      ]
     },
     "metadata": {
      "needs_background": "light"
     },
     "output_type": "display_data"
    },
    {
     "name": "stdout",
     "output_type": "stream",
     "text": [
      "方位角2\n",
      "仰腑角7\n",
      "distance:73.6764908697431\n",
      "(x,y,z:)2.5521065752281cm,108.97890556669094cm,73.08277029322618cm\n",
      "誤差:28.202632128342405cm\n"
     ]
    },
    {
     "data": {
      "image/png": "[encoded data removed]",
      "text/plain": [
       "<Figure size 432x288 with 1 Axes>"
      ]
     },
     "metadata": {
      "needs_background": "light"
     },
     "output_type": "display_data"
    },
    {
     "name": "stdout",
     "output_type": "stream",
     "text": [
      "方位角2\n",
      "仰腑角7\n",
      "distance:73.64301819238545\n",
      "(x,y,z:)2.5509471030685753cm,108.97482627347935cm,73.04956735479155cm\n",
      "誤差:28.235377883559636cm\n"
     ]
    },
    {
     "data": {
      "image/png": "[encoded data removed]",
      "text/plain": [
       "<Figure size 432x288 with 1 Axes>"
      ]
     },
     "metadata": {
      "needs_background": "light"
     },
     "output_type": "display_data"
    },
    {
     "name": "stdout",
     "output_type": "stream",
     "text": [
      "方位角2\n",
      "仰腑角7\n",
      "distance:73.64301819238545\n",
      "(x,y,z:)2.5509471030685753cm,108.97482627347935cm,73.04956735479155cm\n",
      "誤差:28.235377883559636cm\n"
     ]
    },
    {
     "data": {
      "image/png": "[encoded data removed]",
      "text/plain": [
       "<Figure size 432x288 with 1 Axes>"
      ]
     },
     "metadata": {
      "needs_background": "light"
     },
     "output_type": "display_data"
    },
    {
     "name": "stdout",
     "output_type": "stream",
     "text": [
      "方位角3\n",
      "仰腑角7\n",
      "distance:73.39001171930256\n",
      "(x,y,z:)3.812306684216487cm,108.94399254072748cm,72.74314493707469cm\n",
      "誤差:28.676978333842868cm\n"
     ]
    },
    {
     "data": {
      "image/png": "[encoded data removed]",
      "text/plain": [
       "<Figure size 432x288 with 1 Axes>"
      ]
     },
     "metadata": {
      "needs_background": "light"
     },
     "output_type": "display_data"
    },
    {
     "name": "stdout",
     "output_type": "stream",
     "text": [
      "方位角2\n",
      "仰腑角7\n",
      "distance:73.9855689535176\n",
      "(x,y,z:)2.562812842594367cm,109.01657270982145cm,73.38935767724121cm\n",
      "誤差:27.900347771910223cm\n"
     ]
    },
    {
     "data": {
      "image/png": "[encoded data removed]",
      "text/plain": [
       "<Figure size 432x288 with 1 Axes>"
      ]
     },
     "metadata": {
      "needs_background": "light"
     },
     "output_type": "display_data"
    },
    {
     "name": "stdout",
     "output_type": "stream",
     "text": [
      "方位角2\n",
      "仰腑角7\n",
      "distance:73.9855689535176\n",
      "(x,y,z:)2.562812842594367cm,109.01657270982145cm,73.38935767724121cm\n",
      "誤差:27.900347771910223cm\n"
     ]
    },
    {
     "data": {
      "image/png": "[encoded data removed]",
      "text/plain": [
       "<Figure size 432x288 with 1 Axes>"
      ]
     },
     "metadata": {
      "needs_background": "light"
     },
     "output_type": "display_data"
    },
    {
     "name": "stdout",
     "output_type": "stream",
     "text": [
      "方位角2\n",
      "仰腑角7\n",
      "distance:74.24027470726402\n",
      "(x,y,z:)2.571635687184426cm,109.04761353279204cm,73.64201088959796cm\n",
      "誤差:27.65135350349971cm\n"
     ]
    },
    {
     "data": {
      "image/png": "[encoded data removed]",
      "text/plain": [
       "<Figure size 432x288 with 1 Axes>"
      ]
     },
     "metadata": {
      "needs_background": "light"
     },
     "output_type": "display_data"
    },
    {
     "name": "stdout",
     "output_type": "stream",
     "text": [
      "方位角3\n",
      "仰腑角7\n",
      "distance:72.82558221708925\n",
      "(x,y,z:)3.7829869128518663cm,108.87520588789425cm,72.18369037201343cm\n",
      "誤差:29.224482042748594cm\n"
     ]
    },
    {
     "data": {
      "image/png": "[encoded data removed]",
      "text/plain": [
       "<Figure size 432x288 with 1 Axes>"
      ]
     },
     "metadata": {
      "needs_background": "light"
     },
     "output_type": "display_data"
    },
    {
     "name": "stdout",
     "output_type": "stream",
     "text": [
      "方位角2\n",
      "仰腑角7\n",
      "distance:73.40628643302773\n",
      "(x,y,z:)2.5427468661613872cm,108.94597592940328cm,72.8147432937374cm\n",
      "誤差:28.4670168359897cm\n"
     ]
    },
    {
     "data": {
      "image/png": "[encoded data removed]",
      "text/plain": [
       "<Figure size 432x288 with 1 Axes>"
      ]
     },
     "metadata": {
      "needs_background": "light"
     },
     "output_type": "display_data"
    },
    {
     "name": "stdout",
     "output_type": "stream",
     "text": [
      "方位角2\n",
      "仰腑角7\n",
      "distance:73.97083875811501\n",
      "(x,y,z:)2.5623025980360605cm,109.01477755057951cm,73.37474618483333cm\n",
      "誤差:27.914750811939534cm\n"
     ]
    },
    {
     "data": {
      "image/png": "[encoded data removed]",
      "text/plain": [
       "<Figure size 432x288 with 1 Axes>"
      ]
     },
     "metadata": {
      "needs_background": "light"
     },
     "output_type": "display_data"
    },
    {
     "name": "stdout",
     "output_type": "stream",
     "text": [
      "方位角3\n",
      "仰腑角7\n",
      "distance:73.40526986866094\n",
      "(x,y,z:)3.8130992817842624cm,108.94585204137137cm,72.75826859960377cm\n",
      "誤差:28.662186852429098cm\n"
     ]
    },
    {
     "data": {
      "image/png": "[encoded data removed]",
      "text/plain": [
       "<Figure size 432x288 with 1 Axes>"
      ]
     },
     "metadata": {
      "needs_background": "light"
     },
     "output_type": "display_data"
    },
    {
     "name": "stdout",
     "output_type": "stream",
     "text": [
      "方位角3\n",
      "仰腑角7\n",
      "distance:73.83870989827028\n",
      "(x,y,z:)3.835614693396495cm,108.99867509318537cm,73.18788824615724cm\n",
      "誤差:28.242210909225292cm\n"
     ]
    },
    {
     "data": {
      "image/png": "[encoded data removed]",
      "text/plain": [
       "<Figure size 432x288 with 1 Axes>"
      ]
     },
     "metadata": {
      "needs_background": "light"
     },
     "output_type": "display_data"
    },
    {
     "name": "stdout",
     "output_type": "stream",
     "text": [
      "方位角2\n",
      "仰腑角7\n",
      "distance:74.03412041722636\n",
      "(x,y,z:)2.5644946342799555cm,109.022489644825cm,73.43751788991882cm\n",
      "誤差:27.85287705147455cm\n"
     ]
    },
    {
     "data": {
      "image/png": "[encoded data removed]",
      "text/plain": [
       "<Figure size 432x288 with 1 Axes>"
      ]
     },
     "metadata": {
      "needs_background": "light"
     },
     "output_type": "display_data"
    },
    {
     "name": "stdout",
     "output_type": "stream",
     "text": [
      "方位角2\n",
      "仰腑角7\n",
      "distance:75.65006247575981\n",
      "(x,y,z:)2.620469834836969cm,109.21942344247924cm,75.04043791063147cm\n",
      "誤差:26.27515886566197cm\n"
     ]
    },
    {
     "data": {
      "image/png": "[encoded data removed]",
      "text/plain": [
       "<Figure size 432x288 with 1 Axes>"
      ]
     },
     "metadata": {
      "needs_background": "light"
     },
     "output_type": "display_data"
    },
    {
     "name": "stdout",
     "output_type": "stream",
     "text": [
      "方位角2\n",
      "仰腑角7\n",
      "distance:75.35737457670234\n",
      "(x,y,z:)2.6103313129983694cm,109.18375376039847cm,74.75010863134696cm\n",
      "誤差:26.560582617301225cm\n"
     ]
    },
    {
     "data": {
      "image/png": "[encoded data removed]",
      "text/plain": [
       "<Figure size 432x288 with 1 Axes>"
      ]
     },
     "metadata": {
      "needs_background": "light"
     },
     "output_type": "display_data"
    },
    {
     "name": "stdout",
     "output_type": "stream",
     "text": [
      "方位角2\n",
      "仰腑角7\n",
      "distance:75.32581098478188\n",
      "(x,y,z:)2.6092379703387625cm,109.1799071261756cm,74.71879939402145cm\n",
      "誤差:26.5913722741198cm\n"
     ]
    },
    {
     "data": {
      "image/png": "[encoded data removed]",
      "text/plain": [
       "<Figure size 432x288 with 1 Axes>"
      ]
     },
     "metadata": {
      "needs_background": "light"
     },
     "output_type": "display_data"
    },
    {
     "name": "stdout",
     "output_type": "stream",
     "text": [
      "方位角2\n",
      "仰腑角7\n",
      "distance:75.5333435121761\n",
      "(x,y,z:)2.616426764504773cm,109.20519897902436cm,74.92465952455805cm\n",
      "誤差:26.388961933542536cm\n"
     ]
    },
    {
     "data": {
      "image/png": "[encoded data removed]",
      "text/plain": [
       "<Figure size 432x288 with 1 Axes>"
      ]
     },
     "metadata": {
      "needs_background": "light"
     },
     "output_type": "display_data"
    },
    {
     "name": "stdout",
     "output_type": "stream",
     "text": [
      "方位角2\n",
      "仰腑角7\n",
      "distance:75.5333435121761\n",
      "(x,y,z:)2.616426764504773cm,109.20519897902436cm,74.92465952455805cm\n",
      "誤差:26.388961933542536cm\n"
     ]
    },
    {
     "data": {
      "image/png": "[encoded data removed]",
      "text/plain": [
       "<Figure size 432x288 with 1 Axes>"
      ]
     },
     "metadata": {
      "needs_background": "light"
     },
     "output_type": "display_data"
    },
    {
     "name": "stdout",
     "output_type": "stream",
     "text": [
      "方位角2\n",
      "仰腑角7\n",
      "distance:75.57282271639731\n",
      "(x,y,z:)2.6177942989175587cm,109.21001028372095cm,74.9638205863757cm\n",
      "誤差:26.35046615151929cm\n"
     ]
    },
    {
     "data": {
      "image/png": "[encoded data removed]",
      "text/plain": [
       "<Figure size 432x288 with 1 Axes>"
      ]
     },
     "metadata": {
      "needs_background": "light"
     },
     "output_type": "display_data"
    },
    {
     "name": "stdout",
     "output_type": "stream",
     "text": [
      "方位角2\n",
      "仰腑角7\n",
      "distance:75.58459327340765\n",
      "(x,y,z:)2.618202023492733cm,109.21144475377531cm,74.97549629058005cm\n",
      "誤差:26.338989361061067cm\n"
     ]
    },
    {
     "data": {
      "image/png": "[encoded data removed]",
      "text/plain": [
       "<Figure size 432x288 with 1 Axes>"
      ]
     },
     "metadata": {
      "needs_background": "light"
     },
     "output_type": "display_data"
    },
    {
     "name": "stdout",
     "output_type": "stream",
     "text": [
      "方位角2\n",
      "仰腑角7\n",
      "distance:75.74062823845988\n",
      "(x,y,z:)2.623606974998625cm,109.23046063251448cm,75.13027385088466cm\n",
      "誤差:26.186873319931877cm\n"
     ]
    },
    {
     "data": {
      "image/png": "[encoded data removed]",
      "text/plain": [
       "<Figure size 432x288 with 1 Axes>"
      ]
     },
     "metadata": {
      "needs_background": "light"
     },
     "output_type": "display_data"
    },
    {
     "name": "stdout",
     "output_type": "stream",
     "text": [
      "方位角2\n",
      "仰腑角7\n",
      "distance:75.60747537130518\n",
      "(x,y,z:)2.6189946447455905cm,109.21423338002182cm,74.9981939935343cm\n",
      "誤差:26.316679091308554cm\n"
     ]
    },
    {
     "data": {
      "image/png": "[encoded data removed]",
      "text/plain": [
       "<Figure size 432x288 with 1 Axes>"
      ]
     },
     "metadata": {
      "needs_background": "light"
     },
     "output_type": "display_data"
    },
    {
     "name": "stdout",
     "output_type": "stream",
     "text": [
      "方位角2\n",
      "仰腑角7\n",
      "distance:75.60747537130518\n",
      "(x,y,z:)2.6189946447455905cm,109.21423338002182cm,74.9981939935343cm\n",
      "誤差:26.316679091308554cm\n"
     ]
    },
    {
     "data": {
      "image/png": "[encoded data removed]",
      "text/plain": [
       "<Figure size 432x288 with 1 Axes>"
      ]
     },
     "metadata": {
      "needs_background": "light"
     },
     "output_type": "display_data"
    },
    {
     "name": "stdout",
     "output_type": "stream",
     "text": [
      "方位角2\n",
      "仰腑角7\n",
      "distance:75.0382096049802\n",
      "(x,y,z:)2.5992756422776417cm,109.14485733485677cm,74.43351564437569cm\n",
      "誤差:26.87200443697258cm\n"
     ]
    },
    {
     "data": {
      "image/png": "[encoded data removed]",
      "text/plain": [
       "<Figure size 432x288 with 1 Axes>"
      ]
     },
     "metadata": {
      "needs_background": "light"
     },
     "output_type": "display_data"
    },
    {
     "name": "stdout",
     "output_type": "stream",
     "text": [
      "方位角2\n",
      "仰腑角7\n",
      "distance:75.03777335927741\n",
      "(x,y,z:)2.599260531005194cm,109.14480416987941cm,74.43308291415046cm\n",
      "誤差:26.872430223414675cm\n"
     ]
    },
    {
     "data": {
      "image/png": "[encoded data removed]",
      "text/plain": [
       "<Figure size 432x288 with 1 Axes>"
      ]
     },
     "metadata": {
      "needs_background": "light"
     },
     "output_type": "display_data"
    },
    {
     "name": "stdout",
     "output_type": "stream",
     "text": [
      "方位角2\n",
      "仰腑角7\n",
      "distance:75.29635940996171\n",
      "(x,y,z:)2.60821778660224cm,109.17631788209003cm,74.68958515414727cm\n",
      "誤差:26.62010333514156cm\n"
     ]
    },
    {
     "data": {
      "image/png": "[encoded data removed]",
      "text/plain": [
       "<Figure size 432x288 with 1 Axes>"
      ]
     },
     "metadata": {
      "needs_background": "light"
     },
     "output_type": "display_data"
    },
    {
     "name": "stdout",
     "output_type": "stream",
     "text": [
      "方位角2\n",
      "仰腑角7\n",
      "distance:75.22677545359495\n",
      "(x,y,z:)2.6058074428076643cm,109.16783773101608cm,74.6205619387469cm\n",
      "誤差:26.6879912046911cm\n"
     ]
    },
    {
     "data": {
      "image/png": "[encoded data removed]",
      "text/plain": [
       "<Figure size 432x288 with 1 Axes>"
      ]
     },
     "metadata": {
      "needs_background": "light"
     },
     "output_type": "display_data"
    },
    {
     "name": "stdout",
     "output_type": "stream",
     "text": [
      "方位角2\n",
      "仰腑角7\n",
      "distance:75.57495767471912\n",
      "(x,y,z:)2.6178682525099cm,109.21027046968983cm,74.96593834017717cm\n",
      "誤差:26.348384457698664cm\n"
     ]
    },
    {
     "data": {
      "image/png": "[encoded data removed]",
      "text/plain": [
       "<Figure size 432x288 with 1 Axes>"
      ]
     },
     "metadata": {
      "needs_background": "light"
     },
     "output_type": "display_data"
    },
    {
     "name": "stdout",
     "output_type": "stream",
     "text": [
      "方位角2\n",
      "仰腑角7\n",
      "distance:75.48341535799577\n",
      "(x,y,z:)2.6146972851407524cm,109.19911426765697cm,74.87513371544239cm\n",
      "誤差:26.437650537044615cm\n"
     ]
    },
    {
     "data": {
      "image/png": "[encoded data removed]",
      "text/plain": [
       "<Figure size 432x288 with 1 Axes>"
      ]
     },
     "metadata": {
      "needs_background": "light"
     },
     "output_type": "display_data"
    },
    {
     "name": "stdout",
     "output_type": "stream",
     "text": [
      "方位角2\n",
      "仰腑角7\n",
      "distance:75.72810726010955\n",
      "(x,y,z:)2.6231732563076435cm,109.22893470910414cm,75.11785377259618cm\n",
      "誤差:26.199078124427974cm\n"
     ]
    },
    {
     "data": {
      "image/png": "[encoded data removed]",
      "text/plain": [
       "<Figure size 432x288 with 1 Axes>"
      ]
     },
     "metadata": {
      "needs_background": "light"
     },
     "output_type": "display_data"
    },
    {
     "name": "stdout",
     "output_type": "stream",
     "text": [
      "方位角2\n",
      "仰腑角7\n",
      "distance:75.64697631462734\n",
      "(x,y,z:)2.6203629321869455cm,109.21904733404838cm,75.03737661926878cm\n",
      "誤差:26.278167598491102cm\n"
     ]
    },
    {
     "data": {
      "image/png": "[encoded data removed]",
      "text/plain": [
       "<Figure size 432x288 with 1 Axes>"
      ]
     },
     "metadata": {
      "needs_background": "light"
     },
     "output_type": "display_data"
    },
    {
     "name": "stdout",
     "output_type": "stream",
     "text": [
      "方位角2\n",
      "仰腑角7\n",
      "distance:75.3981411865902\n",
      "(x,y,z:)2.6117434423209844cm,109.18872196037836cm,74.7905467242976cm\n",
      "誤差:26.520818292062643cm\n"
     ]
    },
    {
     "data": {
      "image/png": "[encoded data removed]",
      "text/plain": [
       "<Figure size 432x288 with 1 Axes>"
      ]
     },
     "metadata": {
      "needs_background": "light"
     },
     "output_type": "display_data"
    },
    {
     "name": "stdout",
     "output_type": "stream",
     "text": [
      "方位角2\n",
      "仰腑角7\n",
      "distance:75.38599693818531\n",
      "(x,y,z:)2.6113227733146376cm,109.1872419487991cm,74.77850034008358cm\n",
      "誤差:26.532663644802046cm\n"
     ]
    },
    {
     "data": {
      "image/png": "[encoded data removed]",
      "text/plain": [
       "<Figure size 432x288 with 1 Axes>"
      ]
     },
     "metadata": {
      "needs_background": "light"
     },
     "output_type": "display_data"
    },
    {
     "name": "stdout",
     "output_type": "stream",
     "text": [
      "方位角2\n",
      "仰腑角7\n",
      "distance:75.38599693818531\n",
      "(x,y,z:)2.6113227733146376cm,109.1872419487991cm,74.77850034008358cm\n",
      "誤差:26.532663644802046cm\n"
     ]
    },
    {
     "data": {
      "image/png": "[encoded data removed]",
      "text/plain": [
       "<Figure size 432x288 with 1 Axes>"
      ]
     },
     "metadata": {
      "needs_background": "light"
     },
     "output_type": "display_data"
    },
    {
     "name": "stdout",
     "output_type": "stream",
     "text": [
      "方位角2\n",
      "仰腑角7\n",
      "distance:74.94121009347239\n",
      "(x,y,z:)2.59591564116751cm,109.1330360680787cm,74.33729780155507cm\n",
      "誤差:26.966686553009794cm\n"
     ]
    },
    {
     "data": {
      "image/png": "[encoded data removed]",
      "text/plain": [
       "<Figure size 432x288 with 1 Axes>"
      ]
     },
     "metadata": {
      "needs_background": "light"
     },
     "output_type": "display_data"
    },
    {
     "name": "stdout",
     "output_type": "stream",
     "text": [
      "方位角2\n",
      "仰腑角7\n",
      "distance:74.94121009347239\n",
      "(x,y,z:)2.59591564116751cm,109.1330360680787cm,74.33729780155507cm\n",
      "誤差:26.966686553009794cm\n"
     ]
    },
    {
     "data": {
      "image/png": "[encoded data removed]",
      "text/plain": [
       "<Figure size 432x288 with 1 Axes>"
      ]
     },
     "metadata": {
      "needs_background": "light"
     },
     "output_type": "display_data"
    },
    {
     "name": "stdout",
     "output_type": "stream",
     "text": [
      "方位角3\n",
      "仰腑角7\n",
      "distance:73.67785776471982\n",
      "(x,y,z:)3.827259092279407cm,108.97907214928425cm,73.02845387913395cm\n",
      "誤差:28.398019224865447cm\n"
     ]
    },
    {
     "data": {
      "image/png": "[encoded data removed]",
      "text/plain": [
       "<Figure size 432x288 with 1 Axes>"
      ]
     },
     "metadata": {
      "needs_background": "light"
     },
     "output_type": "display_data"
    },
    {
     "name": "stdout",
     "output_type": "stream",
     "text": [
      "方位角3\n",
      "仰腑角7\n",
      "distance:73.67785776471982\n",
      "(x,y,z:)3.827259092279407cm,108.97907214928425cm,73.02845387913395cm\n",
      "誤差:28.398019224865447cm\n"
     ]
    },
    {
     "data": {
      "image/png": "[encoded data removed]",
      "text/plain": [
       "<Figure size 432x288 with 1 Axes>"
      ]
     },
     "metadata": {
      "needs_background": "light"
     },
     "output_type": "display_data"
    },
    {
     "name": "stdout",
     "output_type": "stream",
     "text": [
      "方位角3\n",
      "仰腑角7\n",
      "distance:73.42289542767149\n",
      "(x,y,z:)3.8140148564633614cm,108.94800005667513cm,72.77573880520349cm\n",
      "誤差:28.6451009775691cm\n"
     ]
    },
    {
     "data": {
      "image/png": "[encoded data removed]",
      "text/plain": [
       "<Figure size 432x288 with 1 Axes>"
      ]
     },
     "metadata": {
      "needs_background": "light"
     },
     "output_type": "display_data"
    },
    {
     "name": "stdout",
     "output_type": "stream",
     "text": [
      "方位角3\n",
      "仰腑角7\n",
      "distance:73.51846132736677\n",
      "(x,y,z:)3.8189791085414906cm,108.95964661012292cm,72.87046237765861cm\n",
      "誤差:28.552472671690293cm\n"
     ]
    },
    {
     "data": {
      "image/png": "[encoded data removed]",
      "text/plain": [
       "<Figure size 432x288 with 1 Axes>"
      ]
     },
     "metadata": {
      "needs_background": "light"
     },
     "output_type": "display_data"
    },
    {
     "name": "stdout",
     "output_type": "stream",
     "text": [
      "方位角2\n",
      "仰腑角7\n",
      "distance:73.87312764743123\n",
      "(x,y,z:)2.558917947585081cm,109.00286956167709cm,73.27782247724494cm\n",
      "誤差:28.010300388743776cm\n"
     ]
    },
    {
     "data": {
      "image/png": "[encoded data removed]",
      "text/plain": [
       "<Figure size 432x288 with 1 Axes>"
      ]
     },
     "metadata": {
      "needs_background": "light"
     },
     "output_type": "display_data"
    },
    {
     "name": "stdout",
     "output_type": "stream",
     "text": [
      "方位角2\n",
      "仰腑角7\n",
      "distance:73.54757710258374\n",
      "(x,y,z:)2.5476410846907385cm,108.96319493053134cm,72.95489537516583cm\n",
      "誤差:28.328755620204497cm\n"
     ]
    },
    {
     "data": {
      "image/png": "[encoded data removed]",
      "text/plain": [
       "<Figure size 432x288 with 1 Axes>"
      ]
     },
     "metadata": {
      "needs_background": "light"
     },
     "output_type": "display_data"
    },
    {
     "name": "stdout",
     "output_type": "stream",
     "text": [
      "方位角3\n",
      "仰腑角7\n",
      "distance:72.94914390714749\n",
      "(x,y,z:)3.789405430111732cm,108.89026426993168cm,72.30616297718146cm\n",
      "誤差:29.104570365695867cm\n"
     ]
    },
    {
     "data": {
      "image/png": "[encoded data removed]",
      "text/plain": [
       "<Figure size 432x288 with 1 Axes>"
      ]
     },
     "metadata": {
      "needs_background": "light"
     },
     "output_type": "display_data"
    },
    {
     "name": "stdout",
     "output_type": "stream",
     "text": [
      "方位角2\n",
      "仰腑角7\n",
      "distance:73.7664986603379\n",
      "(x,y,z:)2.5552243875924923cm,108.98987475703207cm,73.17205275778153cm\n",
      "誤差:28.114587518052566cm\n"
     ]
    },
    {
     "data": {
      "image/png": "[encoded data removed]",
      "text/plain": [
       "<Figure size 432x288 with 1 Axes>"
      ]
     },
     "metadata": {
      "needs_background": "light"
     },
     "output_type": "display_data"
    },
    {
     "name": "stdout",
     "output_type": "stream",
     "text": [
      "方位角3\n",
      "仰腑角7\n",
      "distance:72.90714313734581\n",
      "(x,y,z:)3.787223664341349cm,108.88514566369344cm,72.26453240629618cm\n",
      "誤差:29.145327011797537cm\n"
     ]
    },
    {
     "data": {
      "image/png": "[encoded data removed]",
      "text/plain": [
       "<Figure size 432x288 with 1 Axes>"
      ]
     },
     "metadata": {
      "needs_background": "light"
     },
     "output_type": "display_data"
    },
    {
     "name": "stdout",
     "output_type": "stream",
     "text": [
      "方位角3\n",
      "仰腑角7\n",
      "distance:73.0408791955071\n",
      "(x,y,z:)3.794170697820497cm,108.90144398929115cm,72.39708970168603cm\n",
      "誤差:29.015564748588915cm\n"
     ]
    },
    {
     "data": {
      "image/png": "[encoded data removed]",
      "text/plain": [
       "<Figure size 432x288 with 1 Axes>"
      ]
     },
     "metadata": {
      "needs_background": "light"
     },
     "output_type": "display_data"
    },
    {
     "name": "stdout",
     "output_type": "stream",
     "text": [
      "方位角3\n",
      "仰腑角7\n",
      "distance:73.24925427774704\n",
      "(x,y,z:)3.8049949189949785cm,108.92683852374572cm,72.60362814545451cm\n",
      "誤差:28.81345368656431cm\n"
     ]
    },
    {
     "data": {
      "image/png": "[encoded data removed]",
      "text/plain": [
       "<Figure size 432x288 with 1 Axes>"
      ]
     },
     "metadata": {
      "needs_background": "light"
     },
     "output_type": "display_data"
    },
    {
     "name": "stdout",
     "output_type": "stream",
     "text": [
      "方位角2\n",
      "仰腑角7\n",
      "distance:74.17097226902263\n",
      "(x,y,z:)2.569235094997864cm,109.0391676901472cm,73.57326692371458cm\n",
      "誤差:27.719091635986246cm\n"
     ]
    },
    {
     "data": {
      "image/png": "[encoded data removed]",
      "text/plain": [
       "<Figure size 432x288 with 1 Axes>"
      ]
     },
     "metadata": {
      "needs_background": "light"
     },
     "output_type": "display_data"
    },
    {
     "name": "stdout",
     "output_type": "stream",
     "text": [
      "方位角2\n",
      "仰腑角7\n",
      "distance:74.17097226902263\n",
      "(x,y,z:)2.569235094997864cm,109.0391676901472cm,73.57326692371458cm\n",
      "誤差:27.719091635986246cm\n"
     ]
    },
    {
     "data": {
      "image/png": "[encoded data removed]",
      "text/plain": [
       "<Figure size 432x288 with 1 Axes>"
      ]
     },
     "metadata": {
      "needs_background": "light"
     },
     "output_type": "display_data"
    },
    {
     "name": "stdout",
     "output_type": "stream",
     "text": [
      "方位角3\n",
      "仰腑角7\n",
      "distance:73.74356014405362\n",
      "(x,y,z:)3.8306720583497924cm,108.98707925511381cm,73.09357715123356cm\n",
      "誤差:28.33437025591128cm\n"
     ]
    },
    {
     "data": {
      "image/png": "[encoded data removed]",
      "text/plain": [
       "<Figure size 432x288 with 1 Axes>"
      ]
     },
     "metadata": {
      "needs_background": "light"
     },
     "output_type": "display_data"
    },
    {
     "name": "stdout",
     "output_type": "stream",
     "text": [
      "方位角2\n",
      "仰腑角8\n",
      "distance:74.15142594062746\n",
      "(x,y,z:)2.5626626916576507cm,110.31988388876776cm,73.38505791698674cm\n",
      "誤差:27.559868167553137cm\n"
     ]
    },
    {
     "data": {
      "image/png": "[encoded data removed]",
      "text/plain": [
       "<Figure size 432x288 with 1 Axes>"
      ]
     },
     "metadata": {
      "needs_background": "light"
     },
     "output_type": "display_data"
    },
    {
     "name": "stdout",
     "output_type": "stream",
     "text": [
      "方位角2\n",
      "仰腑角7\n",
      "distance:74.1359509192962\n",
      "(x,y,z:)2.5680219778168603cm,109.03489966125088cm,73.5385277928575cm\n",
      "誤差:27.753325416141884cm\n"
     ]
    },
    {
     "data": {
      "image/png": "[encoded data removed]",
      "text/plain": [
       "<Figure size 432x288 with 1 Axes>"
      ]
     },
     "metadata": {
      "needs_background": "light"
     },
     "output_type": "display_data"
    },
    {
     "name": "stdout",
     "output_type": "stream",
     "text": [
      "方位角2\n",
      "仰腑角7\n",
      "distance:74.1359509192962\n",
      "(x,y,z:)2.5680219778168603cm,109.03489966125088cm,73.5385277928575cm\n",
      "誤差:27.753325416141884cm\n"
     ]
    },
    {
     "data": {
      "image/png": "[encoded data removed]",
      "text/plain": [
       "<Figure size 432x288 with 1 Axes>"
      ]
     },
     "metadata": {
      "needs_background": "light"
     },
     "output_type": "display_data"
    },
    {
     "name": "stdout",
     "output_type": "stream",
     "text": [
      "方位角2\n",
      "仰腑角7\n",
      "distance:74.36920470026232\n",
      "(x,y,z:)2.576101739774482cm,109.06332614638397cm,73.76990190274161cm\n",
      "誤差:27.52535446137142cm\n"
     ]
    },
    {
     "data": {
      "image/png": "[encoded data removed]",
      "text/plain": [
       "<Figure size 432x288 with 1 Axes>"
      ]
     },
     "metadata": {
      "needs_background": "light"
     },
     "output_type": "display_data"
    },
    {
     "name": "stdout",
     "output_type": "stream",
     "text": [
      "方位角2\n",
      "仰腑角7\n",
      "distance:74.55183657670092\n",
      "(x,y,z:)2.5824279912992627cm,109.0855833732504cm,73.95106204373667cm\n",
      "誤差:27.346921097653258cm\n"
     ]
    },
    {
     "data": {
      "image/png": "[encoded data removed]",
      "text/plain": [
       "<Figure size 432x288 with 1 Axes>"
      ]
     },
     "metadata": {
      "needs_background": "light"
     },
     "output_type": "display_data"
    },
    {
     "name": "stdout",
     "output_type": "stream",
     "text": [
      "方位角2\n",
      "仰腑角7\n",
      "distance:74.25626603997812\n",
      "(x,y,z:)2.5721896167335196cm,109.04956238601008cm,73.6578733564667cm\n",
      "誤差:27.635724231188963cm\n"
     ]
    },
    {
     "data": {
      "image/png": "[encoded data removed]",
      "text/plain": [
       "<Figure size 432x288 with 1 Axes>"
      ]
     },
     "metadata": {
      "needs_background": "light"
     },
     "output_type": "display_data"
    },
    {
     "name": "stdout",
     "output_type": "stream",
     "text": [
      "方位角2\n",
      "仰腑角7\n",
      "distance:74.54196811419305\n",
      "(x,y,z:)2.5820861540624946cm,109.08438071020414cm,73.94127310604304cm\n",
      "誤差:27.3565612784543cm\n"
     ]
    },
    {
     "data": {
      "image/png": "[encoded data removed]",
      "text/plain": [
       "<Figure size 432x288 with 1 Axes>"
      ]
     },
     "metadata": {
      "needs_background": "light"
     },
     "output_type": "display_data"
    },
    {
     "name": "stdout",
     "output_type": "stream",
     "text": [
      "方位角3\n",
      "仰腑角7\n",
      "distance:73.41321047852989\n",
      "(x,y,z:)3.813511763528998cm,108.94681975828233cm,72.76613922015626cm\n",
      "誤差:28.654489298399245cm\n"
     ]
    },
    {
     "data": {
      "image/png": "[encoded data removed]",
      "text/plain": [
       "<Figure size 432x288 with 1 Axes>"
      ]
     },
     "metadata": {
      "needs_background": "light"
     },
     "output_type": "display_data"
    },
    {
     "name": "stdout",
     "output_type": "stream",
     "text": [
      "方位角2\n",
      "仰腑角7\n",
      "distance:74.12215011998275\n",
      "(x,y,z:)2.5675439269453344cm,109.03321776690007cm,73.52483820701836cm\n",
      "誤差:27.766816398913743cm\n"
     ]
    },
    {
     "data": {
      "image/png": "[encoded data removed]",
      "text/plain": [
       "<Figure size 432x288 with 1 Axes>"
      ]
     },
     "metadata": {
      "needs_background": "light"
     },
     "output_type": "display_data"
    },
    {
     "name": "stdout",
     "output_type": "stream",
     "text": [
      "方位角2\n",
      "仰腑角7\n",
      "distance:74.20822414431468\n",
      "(x,y,z:)2.5705254761594825cm,109.04370755172964cm,73.61021860549018cm\n",
      "誤差:27.68267965345851cm\n"
     ]
    },
    {
     "data": {
      "image/png": "[encoded data removed]",
      "text/plain": [
       "<Figure size 432x288 with 1 Axes>"
      ]
     },
     "metadata": {
      "needs_background": "light"
     },
     "output_type": "display_data"
    },
    {
     "name": "stdout",
     "output_type": "stream",
     "text": [
      "方位角2\n",
      "仰腑角7\n",
      "distance:74.00670013279134\n",
      "(x,y,z:)2.5635448131446763cm,109.01914795276492cm,73.41031857131551cm\n",
      "誤差:27.87968650985491cm\n"
     ]
    },
    {
     "data": {
      "image/png": "[encoded data removed]",
      "text/plain": [
       "<Figure size 432x288 with 1 Axes>"
      ]
     },
     "metadata": {
      "needs_background": "light"
     },
     "output_type": "display_data"
    },
    {
     "name": "stdout",
     "output_type": "stream",
     "text": [
      "方位角3\n",
      "仰腑角7\n",
      "distance:73.4225044470808\n",
      "(x,y,z:)3.8139945466434777cm,108.94795240812726cm,72.77535127075419cm\n",
      "誤差:28.64547997947382cm\n"
     ]
    },
    {
     "data": {
      "image/png": "[encoded data removed]",
      "text/plain": [
       "<Figure size 432x288 with 1 Axes>"
      ]
     },
     "metadata": {
      "needs_background": "light"
     },
     "output_type": "display_data"
    },
    {
     "name": "stdout",
     "output_type": "stream",
     "text": [
      "方位角3\n",
      "仰腑角7\n",
      "distance:73.05855460010144\n",
      "(x,y,z:)3.795088861770913cm,108.90359807924348cm,72.41460931352566cm\n",
      "誤差:28.998417247439434cm\n"
     ]
    },
    {
     "data": {
      "image/png": "[encoded data removed]",
      "text/plain": [
       "<Figure size 432x288 with 1 Axes>"
      ]
     },
     "metadata": {
      "needs_background": "light"
     },
     "output_type": "display_data"
    },
    {
     "name": "stdout",
     "output_type": "stream",
     "text": [
      "方位角2\n",
      "仰腑角7\n",
      "distance:73.38942208812239\n",
      "(x,y,z:)2.5421626960277153cm,108.9439206827627cm,72.79801484982926cm\n",
      "誤差:28.483521573864476cm\n"
     ]
    },
    {
     "data": {
      "image/png": "[encoded data removed]",
      "text/plain": [
       "<Figure size 432x288 with 1 Axes>"
      ]
     },
     "metadata": {
      "needs_background": "light"
     },
     "output_type": "display_data"
    },
    {
     "name": "stdout",
     "output_type": "stream",
     "text": [
      "方位角2\n",
      "仰腑角7\n",
      "distance:73.92546663579871\n",
      "(x,y,z:)2.560730936705173cm,109.00924807982392cm,73.32973969288707cm\n",
      "誤差:27.959117368564407cm\n"
     ]
    },
    {
     "data": {
      "image/png": "[encoded data removed]",
      "text/plain": [
       "<Figure size 432x288 with 1 Axes>"
      ]
     },
     "metadata": {
      "needs_background": "light"
     },
     "output_type": "display_data"
    },
    {
     "name": "stdout",
     "output_type": "stream",
     "text": [
      "方位角2\n",
      "仰腑角7\n",
      "distance:73.92546663579871\n",
      "(x,y,z:)2.560730936705173cm,109.00924807982392cm,73.32973969288707cm\n",
      "誤差:27.959117368564407cm\n"
     ]
    },
    {
     "data": {
      "image/png": "[encoded data removed]",
      "text/plain": [
       "<Figure size 432x288 with 1 Axes>"
      ]
     },
     "metadata": {
      "needs_background": "light"
     },
     "output_type": "display_data"
    },
    {
     "name": "stdout",
     "output_type": "stream",
     "text": [
      "方位角3\n",
      "仰腑角7\n",
      "distance:73.47662909978972\n",
      "(x,y,z:)3.8168060978405576cm,108.95454854401493cm,72.82899886345021cm\n",
      "誤差:28.593016641857066cm\n"
     ]
    },
    {
     "data": {
      "image/png": "[encoded data removed]",
      "text/plain": [
       "<Figure size 432x288 with 1 Axes>"
      ]
     },
     "metadata": {
      "needs_background": "light"
     },
     "output_type": "display_data"
    },
    {
     "name": "stdout",
     "output_type": "stream",
     "text": [
      "方位角2\n",
      "仰腑角7\n",
      "distance:73.47235700137907\n",
      "(x,y,z:)2.5450355084396494cm,108.95402790618665cm,72.8802814336917cm\n",
      "誤差:28.402359194077675cm\n"
     ]
    },
    {
     "data": {
      "image/png": "[encoded data removed]",
      "text/plain": [
       "<Figure size 432x288 with 1 Axes>"
      ]
     },
     "metadata": {
      "needs_background": "light"
     },
     "output_type": "display_data"
    },
    {
     "name": "stdout",
     "output_type": "stream",
     "text": [
      "方位角2\n",
      "仰腑角7\n",
      "distance:73.47235700137907\n",
      "(x,y,z:)2.5450355084396494cm,108.95402790618665cm,72.8802814336917cm\n",
      "誤差:28.402359194077675cm\n"
     ]
    },
    {
     "data": {
      "image/png": "[encoded data removed]",
      "text/plain": [
       "<Figure size 432x288 with 1 Axes>"
      ]
     },
     "metadata": {
      "needs_background": "light"
     },
     "output_type": "display_data"
    },
    {
     "name": "stdout",
     "output_type": "stream",
     "text": [
      "方位角2\n",
      "仰腑角7\n",
      "distance:74.49859719201235\n",
      "(x,y,z:)2.5805838130258296cm,109.07909512439511cm,73.89825168759978cm\n",
      "誤差:27.39893085192048cm\n"
     ]
    },
    {
     "data": {
      "image/png": "[encoded data removed]",
      "text/plain": [
       "<Figure size 432x288 with 1 Axes>"
      ]
     },
     "metadata": {
      "needs_background": "light"
     },
     "output_type": "display_data"
    },
    {
     "name": "stdout",
     "output_type": "stream",
     "text": [
      "方位角3\n",
      "仰腑角7\n",
      "distance:73.79068587822195\n",
      "(x,y,z:)3.833120044760473cm,108.9928224373944cm,73.14028751454546cm\n",
      "誤差:28.28872313480977cm\n",
      "[-17.08590614,-16.91903866,-16.93083997,-17.07769782,-17.1517965 ,\n",
      " -18.03454905,-17.48066505,-17.36648308,-17.19597137,-17.32350913,\n",
      " -17.35698181,-17.35698181,-17.60998828,-17.01443105,-17.01443105,\n",
      " -16.75972529,-18.17441778,-17.59371357,-17.02916124,-17.59473013,\n",
      " -17.1612901 ,-16.96587958,-15.34993752,-15.64262542,-15.67418902,\n",
      " -15.46665649,-15.46665649,-15.42717728,-15.41540673,-15.25937176,\n",
      " -15.39252463,-15.39252463,-15.9617904 ,-15.96222664,-15.70364059,\n",
      " -15.77322455,-15.42504233,-15.51658464,-15.27189274,-15.35302369,\n",
      " -15.60185881,-15.61400306,-15.61400306,-16.05878991,-16.05878991,\n",
      " -17.32214224,-17.32214224,-17.57710457,-17.48153867,-17.12687235,\n",
      " -17.4524229 ,-18.05085609,-17.23350134,-18.09285686,-17.9591208 ,\n",
      " -17.75074572,-16.82902773,-16.82902773,-17.25643986,-16.84857406,\n",
      " -16.86404908,-16.86404908,-16.6307953 ,-16.44816342,-16.74373396,\n",
      " -16.45803189,-17.58678952,-16.87784988,-16.79177586,-16.99329987,\n",
      " -17.57749555,-17.9414454 ,-17.61057791,-17.07453336,-17.07453336,\n",
      " -17.5233709 ,-17.527643  ,-17.527643  ,-16.50140281,-17.20931412,\n",
      "   0.        ,  0.        ,  0.        ,  0.        ,  0.        ,\n",
      "   0.        ,  0.        ,  0.        ,  0.        ,  0.        ,\n",
      "   0.        ,  0.        ,  0.        ,  0.        ,  0.        ,\n",
      "   0.        ,  0.        ,  0.        ,  0.        ,  0.        ]\n",
      "-13.415589991784186\n",
      "6.749863627165842\n"
     ]
    }
   ],
   "source": [
    "if __name__ == '__main__':\n",
    "    #speaker_heights = [0,17,34,50,64,75]\n",
    "    speaker_heights = [0,10,20,30,40,50]\n",
    "    houi = -22\n",
    "    gyouhu = 3\n",
    "    cdf_array = np.zeros(100*3).reshape(100,3)\n",
    "    error_array = np.zeros(100)\n",
    "    distance_error_array = np.zeros(100)\n",
    "    deg_array = np.zeros(80*2).reshape(80,2)\n",
    "    #データベース作成\n",
    "    db1 = create_db()\n",
    "    #計測信号読み込み\n",
    "    test_number = 9\n",
    "    #スピーカマイク間距離の真値db\n",
    "    distance_db =[91,83,83,135,135,140,140,91,91]\n",
    "    #-0.3759 0.3893 -0.7477\n",
    "    dx = 0.0\n",
    "    dy = 117.0\n",
    "    dz = 100.0\n",
    "    signal = readwav('vivesound_0817/test0826_'+str(test_number)+'.wav')\n",
    "    sec = 150000\n",
    "    for i in range(0,80):\n",
    "        # 残差平方和によって測位\n",
    "        #cdf_array[i,:] = estimate(db1,signal)\n",
    "        distance_error_array[i] = estimate(db1,signal) - distance_db[test_number-1]\n",
    "        sec += 48000*3\n",
    "    #print(cdf_array[0,0])\n",
    "    #print(cdf_array[0,1])\n",
    "    #print(cdf_array)\n",
    "    #print(np.array2string(deg_array,separator=','))\n",
    "    #print(np.average(deg_array[:,0]))\n",
    "    #print(np.average(deg_array[:,1]))\n",
    "    #print(np.array2string(np.sort(cdf_array),separator=',',precision=2))\n",
    "    print(np.array2string(distance_error_array,separator=','))\n",
    "    print(np.average(distance_error_array))\n",
    "    print(np.std(distance_error_array))"
   ]
  },
  {
   "cell_type": "code",
   "execution_count": null,
   "id": "105cacf9",
   "metadata": {},
   "outputs": [],
   "source": [
    "'''\n",
    "\n",
    "y=rsinθ\n",
    "\n",
    "https://manabitimes.jp/math/1235\n",
    "\n",
    "スピーカ・マイク間距離の誤差の平均値と標準偏差\n",
    "1\n",
    "-14.595714531318906\n",
    "7.341509120057439\n",
    "2\n",
    "-21.578613494745014\n",
    "10.81839479444456\n",
    "3\n",
    "-20.340774253386886\n",
    "10.179585036870005\n",
    "4\n",
    "-37.76967067820094\n",
    "18.934800539066522\n",
    "5\n",
    "-33.920463800600906\n",
    "17.083132232400494\n",
    "6\n",
    "-30.880413092324737\n",
    "16.645435542475578\n",
    "7\n",
    "-28.835234958161017\n",
    "14.66341535056449\n",
    "8\n",
    "-25.872434228495603\n",
    "13.12609688795215\n",
    "9\n",
    "-13.415589991784191\n",
    "6.749863627165843\n",
    "'''\n",
    "\n"
   ]
  },
  {
   "cell_type": "code",
   "execution_count": null,
   "id": "d9006efd",
   "metadata": {},
   "outputs": [],
   "source": [
    "\"\"\"\n",
    "6/14のテストデータを解析\n",
    "方位，高さ，距離，方位角，仰俯角(これから)\n",
    "ans.\n",
    "-0.2149 0.6218 -1.0525 -12 30\n",
    "0.2497 0.6229 -1.0482 14 30\n",
    "0.2523 0.5334 -1.0434 14 27\n",
    "-0.4294 0.5280 -1.0255 -23 27\n",
    "-0.0082 0.2315 -1.2317 -1 10\n",
    "-0.2330 0.2319 -1.6660 -8 8\n",
    "0.4514 0.3436 -0.7841 30 23\n",
    "-0.5441 0.0908 -1.1785 -25 4\n",
    "-0.5219 0.0977 -1.9388 -16 3\n",
    "-0.6911 0.0894 -1.7950 -22 3\n",
    "estimate.\n",
    "-13cm,158cm,99cm\n",
    "32cm,156cm,105cm\n",
    "14cm,145cm,92cm\n",
    "-46cm,145cm,91cm\n",
    "-7cm,120cm,106cm\n",
    "-23cm,133cm,130cm\n",
    "24cm,141cm,73cm\n",
    "-37cm,139cm,44cm\n",
    "-39cm,102cm,147cm\n",
    "-65cm,100cm,123cm\n",
    "\"\"\""
   ]
  }
 ],
 "metadata": {
  "kernelspec": {
   "display_name": "Python 3",
   "language": "python",
   "name": "python3"
  },
  "language_info": {
   "codemirror_mode": {
    "name": "ipython",
    "version": 3
   },
   "file_extension": ".py",
   "mimetype": "text/x-python",
   "name": "python",
   "nbconvert_exporter": "python",
   "pygments_lexer": "ipython3",
   "version": "3.9.10"
  }
 },
 "nbformat": 4,
 "nbformat_minor": 5
}
